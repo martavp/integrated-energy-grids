{
 "cells": [
  {
   "cell_type": "markdown",
   "metadata": {
    "vscode": {
     "languageId": "plaintext"
    }
   },
   "source": [
    "# Problem 7.2"
   ]
  },
  {
   "cell_type": "markdown",
   "metadata": {},
   "source": [
    "**Integrated Energy Grids**\n",
    "\n",
    "\n",
    "**Problem 7.2**"
   ]
  },
  {
   "cell_type": "markdown",
   "metadata": {},
   "source": [
    "_Note: This problem is similar to 7.1 but now it assumes that the mass flow in the district heating network is variable._\n",
    "\n",
    "**A district heating system is used to transport heat generated using a heat pump to two distant buildings. The pipeline diameter is 0.5 m, the supply temperature is $T^S$=80$^{\\circ}$C and the return temperature is $T^R$=40$^{\\circ}$C. Assume the mass flow to be constant and that the heat losses in the pipelines due to dissipation to the ambient can be neglected.**\n",
    "\n",
    "**The heat transfer coefficient of building A is $U_A$ = 2 MW/k, the heat transfer coefficient of building B is $U_B$ = 3 MW/k, the ambient temperature is 5$^{\\circ}$C and the interior comfort temperature of the buildings must be 20$^{\\circ}$C.**\n",
    "\n",
    "**Calculate the mass flow needed at the heat exchanger that serves every building, assuming that the input and output temperature correspond to $T^S$ and $T^R$**.\n"
   ]
  },
  {
   "cell_type": "markdown",
   "metadata": {},
   "source": [
    ":::{note}\n",
    "If you have not yet set up Python on your computer, you can execute this tutorial in your browser via [Google Colab](https://colab.research.google.com/). Click on the rocket in the top right corner and launch \"Colab\". If that doesn't work download the `.ipynb` file and import it in [Google Colab](https://colab.research.google.com/).\n",
    "\n",
    ":::"
   ]
  },
  {
   "cell_type": "code",
   "execution_count": 8,
   "metadata": {},
   "outputs": [],
   "source": [
    "import numpy as np"
   ]
  },
  {
   "cell_type": "markdown",
   "metadata": {},
   "source": [
    "We can calculate the rate of heat extracted in every building as\n",
    "\n",
    "$q_{A,B}=U_{A,B}(T_{indoor}-T_{ambient})$\n"
   ]
  },
  {
   "cell_type": "code",
   "execution_count": 9,
   "metadata": {},
   "outputs": [
    {
     "name": "stdout",
     "output_type": "stream",
     "text": [
      "30 MW are extracted in building A.\n",
      "45 MW are extracted in building B.\n"
     ]
    }
   ],
   "source": [
    "T_ind = 20 #C\n",
    "T_amb = 5 #C\n",
    "U_A = 2 # MW/K\n",
    "U_B = 3 # MW/K\n",
    "\n",
    "q_A = U_A*(T_ind-T_amb)\n",
    "q_B = U_B*(T_ind-T_amb)\n",
    "print(str(q_A) + \" MW are extracted in building A.\")\n",
    "print(str(q_B) + \" MW are extracted in building B.\")"
   ]
  },
  {
   "cell_type": "markdown",
   "metadata": {},
   "source": [
    "If we apply the energy nodal balance to the two buildings \n",
    "\n",
    "$q_{buildingA}=c_pm_A(T^S-T^R)$\n",
    "\n",
    "$q_{buildingB}=c_pm_B(T^S-T^R)$\n",
    "\n",
    "The mass flow can be estimated as \n"
   ]
  },
  {
   "cell_type": "code",
   "execution_count": 10,
   "metadata": {},
   "outputs": [
    {
     "name": "stdout",
     "output_type": "stream",
     "text": [
      "Required mass flow in heat exchanger in building A: 179.2kg/s\n",
      "Required mass flow in heat exchanger in building B: 268.8kg/s\n"
     ]
    }
   ],
   "source": [
    "c_p = 4186 #J/kgK\n",
    "T_S = 80 #C\n",
    "T_R = 40 #C\n",
    "\n",
    "m_A=q_A*1000000/(c_p*(T_S-T_R))  # MW -> W\n",
    "m_B=q_B*1000000/(c_p*(T_S-T_R))  # MW -> W\n",
    "\n",
    "print(\"Required mass flow in heat exchanger in building A: \" + str(round(m_A,1)) + \"kg/s\")\n",
    "print(\"Required mass flow in heat exchanger in building B: \" + str(round(m_B,1)) + \"kg/s\")"
   ]
  },
  {
   "cell_type": "code",
   "execution_count": null,
   "metadata": {},
   "outputs": [],
   "source": []
  }
 ],
 "metadata": {
  "kernelspec": {
   "display_name": "Python 3",
   "language": "python",
   "name": "python3"
  },
  "language_info": {
   "codemirror_mode": {
    "name": "ipython",
    "version": 3
   },
   "file_extension": ".py",
   "mimetype": "text/x-python",
   "name": "python",
   "nbconvert_exporter": "python",
   "pygments_lexer": "ipython3",
   "version": "3.7.4"
  }
 },
 "nbformat": 4,
 "nbformat_minor": 4
}
