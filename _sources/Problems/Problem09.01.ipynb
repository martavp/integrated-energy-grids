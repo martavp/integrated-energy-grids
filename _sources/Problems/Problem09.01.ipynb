{
 "cells": [
  {
   "cell_type": "markdown",
   "metadata": {},
   "source": [
    "# Problem 9.1"
   ]
  },
  {
   "cell_type": "markdown",
   "metadata": {},
   "source": [
    "**Integrated Energy Grids**\n",
    "\n",
    "**Problem 9.2. Join capacity and dispatch optimization with storage and CO2 emissions limits.**\n",
    "\n",
    "**Use the model described in Problem 8.2 and assume that methane gas emits 0.198 tCO2 per MWh of thermal energy contained in the gas. Limit the maximum CO2 emissions to 5 MtCO2/year.**\n",
    "\n",
    "**a) Calculate the optimal installed capacities and plot the hourly generation and demand during January.**\n",
    "\n",
    "**b) What is the CO2 tax required to attain such CO2 emissions limit?**\n"
   ]
  },
  {
   "cell_type": "markdown",
   "metadata": {},
   "source": [
    ":::{note}\n",
    "If you have not yet set up Python on your computer, you can execute this tutorial in your browser via [Google Colab](https://colab.research.google.com/). Click on the rocket in the top right corner and launch \"Colab\". If that doesn't work download the `.ipynb` file and import it in [Google Colab](https://colab.research.google.com/).\n",
    "\n",
    "Then install `pandas` and `numpy` by executing the following command in a Jupyter cell at the top of the notebook.\n",
    "\n",
    "```sh\n",
    "!pip install pandas pypsa\n",
    "```\n",
    ":::"
   ]
  },
  {
   "cell_type": "markdown",
   "metadata": {},
   "source": [
    ":::{note}\n",
    "See also https://model.energy.\n",
    ":::\n",
    "\n",
    "In this exercise, we want to build a replica of [model.energy](https://model.energy). This tool calculates the cost of meeting a constant electricity demand from a combination of wind power, solar power and storage for different regions of the world. We deviate from [model.energy](https://model.energy) by including electricity demand profiles rather than a constant electricity demand. "
   ]
  },
  {
   "cell_type": "code",
   "execution_count": 1,
   "metadata": {
    "ExecuteTime": {
     "end_time": "2024-05-24T08:46:20.357375Z",
     "start_time": "2024-05-24T08:46:17.846410Z"
    },
    "jp-MarkdownHeadingCollapsed": true,
    "tags": []
   },
   "outputs": [],
   "source": [
    "import matplotlib.pyplot as plt\n",
    "import pandas as pd\n",
    "import pypsa"
   ]
  },
  {
   "cell_type": "markdown",
   "metadata": {
    "tags": []
   },
   "source": [
    "## Prerequisites: handling technology data and costs"
   ]
  },
  {
   "cell_type": "markdown",
   "metadata": {},
   "source": [
    "We maintain a database (https://github.com/PyPSA/technology-data) which collects assumptions and projections for energy system technologies (such as costs, efficiencies, lifetimes, etc.) for given years, which we can load into a `pandas.DataFrame`. This requires some pre-processing to load (e.g. converting units, setting defaults, re-arranging dimensions):"
   ]
  },
  {
   "cell_type": "code",
   "execution_count": 2,
   "metadata": {
    "ExecuteTime": {
     "end_time": "2024-05-24T07:37:30.201456Z",
     "start_time": "2024-05-24T07:37:29.732485Z"
    }
   },
   "outputs": [],
   "source": [
    "year = 2030\n",
    "url = f\"https://raw.githubusercontent.com/PyPSA/technology-data/master/outputs/costs_{year}.csv\"\n",
    "costs = pd.read_csv(url, index_col=[0, 1])"
   ]
  },
  {
   "cell_type": "code",
   "execution_count": 3,
   "metadata": {
    "ExecuteTime": {
     "end_time": "2024-05-24T07:37:30.218478Z",
     "start_time": "2024-05-24T07:37:30.202899Z"
    }
   },
   "outputs": [],
   "source": [
    "costs.loc[costs.unit.str.contains(\"/kW\"), \"value\"] *= 1e3\n",
    "costs.unit = costs.unit.str.replace(\"/kW\", \"/MW\")\n",
    "\n",
    "defaults = {\n",
    "    \"FOM\": 0,\n",
    "    \"VOM\": 0,\n",
    "    \"efficiency\": 1,\n",
    "    \"fuel\": 0,\n",
    "    \"investment\": 0,\n",
    "    \"lifetime\": 25,\n",
    "    \"CO2 intensity\": 0,\n",
    "    \"discount rate\": 0.07,\n",
    "}\n",
    "costs = costs.value.unstack().fillna(defaults)\n",
    "\n",
    "costs.at[\"OCGT\", \"fuel\"] = costs.at[\"gas\", \"fuel\"]\n",
    "costs.at[\"CCGT\", \"fuel\"] = costs.at[\"gas\", \"fuel\"]\n",
    "costs.at[\"OCGT\", \"CO2 intensity\"] = costs.at[\"gas\", \"CO2 intensity\"]\n",
    "costs.at[\"CCGT\", \"CO2 intensity\"] = costs.at[\"gas\", \"CO2 intensity\"]"
   ]
  },
  {
   "cell_type": "markdown",
   "metadata": {},
   "source": [
    "Let's also write a small utility function that calculates the **annuity** to annualise investment costs. The formula is\n",
    "\n",
    "$$\n",
    "a(r, n) = \\frac{r}{1-(1+r)^{-n}}\n",
    "$$\n",
    "where $r$ is the discount rate and $n$ is the lifetime."
   ]
  },
  {
   "cell_type": "code",
   "execution_count": 4,
   "metadata": {
    "ExecuteTime": {
     "end_time": "2024-05-24T07:37:30.222911Z",
     "start_time": "2024-05-24T07:37:30.220818Z"
    }
   },
   "outputs": [],
   "source": [
    "def annuity(r, n):\n",
    "    return r / (1.0 - 1.0 / (1.0 + r) ** n)"
   ]
  },
  {
   "cell_type": "code",
   "execution_count": 5,
   "metadata": {
    "ExecuteTime": {
     "end_time": "2024-05-24T07:37:30.228332Z",
     "start_time": "2024-05-24T07:37:30.223938Z"
    }
   },
   "outputs": [
    {
     "data": {
      "text/plain": [
       "0.09439292574325567"
      ]
     },
     "execution_count": 5,
     "metadata": {},
     "output_type": "execute_result"
    }
   ],
   "source": [
    "annuity(0.07, 20)"
   ]
  },
  {
   "cell_type": "markdown",
   "metadata": {},
   "source": [
    "Based on this, we can calculate the marginal generation costs (€/MWh):"
   ]
  },
  {
   "cell_type": "code",
   "execution_count": 7,
   "metadata": {
    "ExecuteTime": {
     "end_time": "2024-05-24T07:37:30.231948Z",
     "start_time": "2024-05-24T07:37:30.229239Z"
    }
   },
   "outputs": [],
   "source": [
    "costs[\"marginal_cost\"] = costs[\"VOM\"] + costs[\"fuel\"] / costs[\"efficiency\"]"
   ]
  },
  {
   "cell_type": "markdown",
   "metadata": {},
   "source": [
    "and the annualised investment costs (`capital_cost` in PyPSA terms, €/MW/a):"
   ]
  },
  {
   "cell_type": "code",
   "execution_count": 8,
   "metadata": {
    "ExecuteTime": {
     "end_time": "2024-05-24T07:37:30.237265Z",
     "start_time": "2024-05-24T07:37:30.232914Z"
    }
   },
   "outputs": [],
   "source": [
    "annuity = costs.apply(lambda x: annuity(x[\"discount rate\"], x[\"lifetime\"]), axis=1)"
   ]
  },
  {
   "cell_type": "code",
   "execution_count": 9,
   "metadata": {
    "ExecuteTime": {
     "end_time": "2024-05-24T07:37:30.240224Z",
     "start_time": "2024-05-24T07:37:30.238032Z"
    }
   },
   "outputs": [],
   "source": [
    "costs[\"capital_cost\"] = (annuity + costs[\"FOM\"] / 100) * costs[\"investment\"]"
   ]
  },
  {
   "cell_type": "markdown",
   "metadata": {},
   "source": [
    "We can now read the capital and marginal cost of onshore wind, solar and OCGT"
   ]
  },
  {
   "cell_type": "code",
   "execution_count": 158,
   "metadata": {},
   "outputs": [
    {
     "data": {
      "text/plain": [
       "101644.12332388277"
      ]
     },
     "execution_count": 158,
     "metadata": {},
     "output_type": "execute_result"
    }
   ],
   "source": [
    "costs.at[\"onwind\", \"capital_cost\"] #EUR/MW/a"
   ]
  },
  {
   "cell_type": "code",
   "execution_count": 34,
   "metadata": {},
   "outputs": [
    {
     "data": {
      "text/plain": [
       "0.198"
      ]
     },
     "execution_count": 34,
     "metadata": {},
     "output_type": "execute_result"
    }
   ],
   "source": [
    "costs.at[\"CCGT\", \"CO2 intensity\"] #tCO2/MWh_th"
   ]
  },
  {
   "cell_type": "markdown",
   "metadata": {},
   "source": [
    "## Retrieving time series data"
   ]
  },
  {
   "cell_type": "markdown",
   "metadata": {
    "ExecuteTime": {
     "end_time": "2024-05-24T07:37:33.705510Z",
     "start_time": "2024-05-24T07:37:30.240941Z"
    }
   },
   "source": [
    "In this example, wind data from [https://zenodo.org/record/3253876#.XSiVOEdS8l0](https://zenodo.org/record/3253876#.XSiVOEdS8l0) and solar PV data from [https://zenodo.org/record/2613651#.X0kbhDVS-uV](https://zenodo.org/record/3253876#.XSiVOEdS8l0) is used. The data is downloaded in csv format and saved in the 'data' folder.\n",
    "The Pandas package is used as a convenient way of managing the datasets.\n",
    "\n",
    "For convenience, the column including date information is converted into Datetime and set as index"
   ]
  },
  {
   "cell_type": "code",
   "execution_count": 10,
   "metadata": {
    "ExecuteTime": {
     "end_time": "2024-05-24T07:37:33.730588Z",
     "start_time": "2024-05-24T07:37:33.709003Z"
    }
   },
   "outputs": [],
   "source": [
    "data_solar = pd.read_csv('data/pv_optimal.csv',sep=';')\n",
    "data_solar.index = pd.DatetimeIndex(data_solar['utc_time'])\n",
    "\n",
    "data_wind = pd.read_csv('data/onshore_wind_1979-2017.csv',sep=';')\n",
    "data_wind.index = pd.DatetimeIndex(data_wind['utc_time'])\n",
    "\n",
    "data_el = pd.read_csv('data/electricity_demand.csv',sep=';')\n",
    "data_el.index = pd.DatetimeIndex(data_el['utc_time'])"
   ]
  },
  {
   "cell_type": "markdown",
   "metadata": {},
   "source": [
    "The data format can now be analyzed using the .head() function to show the first lines of the data set"
   ]
  },
  {
   "cell_type": "code",
   "execution_count": 11,
   "metadata": {
    "ExecuteTime": {
     "end_time": "2024-05-24T07:37:33.734128Z",
     "start_time": "2024-05-24T07:37:33.731197Z"
    }
   },
   "outputs": [
    {
     "data": {
      "text/html": [
       "<div>\n",
       "<style scoped>\n",
       "    .dataframe tbody tr th:only-of-type {\n",
       "        vertical-align: middle;\n",
       "    }\n",
       "\n",
       "    .dataframe tbody tr th {\n",
       "        vertical-align: top;\n",
       "    }\n",
       "\n",
       "    .dataframe thead th {\n",
       "        text-align: right;\n",
       "    }\n",
       "</style>\n",
       "<table border=\"1\" class=\"dataframe\">\n",
       "  <thead>\n",
       "    <tr style=\"text-align: right;\">\n",
       "      <th></th>\n",
       "      <th>utc_time</th>\n",
       "      <th>AUT</th>\n",
       "      <th>BEL</th>\n",
       "      <th>BGR</th>\n",
       "      <th>BIH</th>\n",
       "      <th>CHE</th>\n",
       "      <th>CYP</th>\n",
       "      <th>CZE</th>\n",
       "      <th>DEU</th>\n",
       "      <th>DNK</th>\n",
       "      <th>...</th>\n",
       "      <th>MLT</th>\n",
       "      <th>NLD</th>\n",
       "      <th>NOR</th>\n",
       "      <th>POL</th>\n",
       "      <th>PRT</th>\n",
       "      <th>ROU</th>\n",
       "      <th>SRB</th>\n",
       "      <th>SVK</th>\n",
       "      <th>SVN</th>\n",
       "      <th>SWE</th>\n",
       "    </tr>\n",
       "    <tr>\n",
       "      <th>utc_time</th>\n",
       "      <th></th>\n",
       "      <th></th>\n",
       "      <th></th>\n",
       "      <th></th>\n",
       "      <th></th>\n",
       "      <th></th>\n",
       "      <th></th>\n",
       "      <th></th>\n",
       "      <th></th>\n",
       "      <th></th>\n",
       "      <th></th>\n",
       "      <th></th>\n",
       "      <th></th>\n",
       "      <th></th>\n",
       "      <th></th>\n",
       "      <th></th>\n",
       "      <th></th>\n",
       "      <th></th>\n",
       "      <th></th>\n",
       "      <th></th>\n",
       "      <th></th>\n",
       "    </tr>\n",
       "  </thead>\n",
       "  <tbody>\n",
       "    <tr>\n",
       "      <th>1979-01-01 00:00:00+00:00</th>\n",
       "      <td>1979-01-01T00:00:00Z</td>\n",
       "      <td>0.0</td>\n",
       "      <td>0.0</td>\n",
       "      <td>0.0</td>\n",
       "      <td>0.0</td>\n",
       "      <td>0.0</td>\n",
       "      <td>0.0</td>\n",
       "      <td>0.0</td>\n",
       "      <td>0.0</td>\n",
       "      <td>0.0</td>\n",
       "      <td>...</td>\n",
       "      <td>0.0</td>\n",
       "      <td>0.0</td>\n",
       "      <td>0.0</td>\n",
       "      <td>0.0</td>\n",
       "      <td>0.0</td>\n",
       "      <td>0.0</td>\n",
       "      <td>0.0</td>\n",
       "      <td>0.0</td>\n",
       "      <td>0.0</td>\n",
       "      <td>0.0</td>\n",
       "    </tr>\n",
       "    <tr>\n",
       "      <th>1979-01-01 01:00:00+00:00</th>\n",
       "      <td>1979-01-01T01:00:00Z</td>\n",
       "      <td>0.0</td>\n",
       "      <td>0.0</td>\n",
       "      <td>0.0</td>\n",
       "      <td>0.0</td>\n",
       "      <td>0.0</td>\n",
       "      <td>0.0</td>\n",
       "      <td>0.0</td>\n",
       "      <td>0.0</td>\n",
       "      <td>0.0</td>\n",
       "      <td>...</td>\n",
       "      <td>0.0</td>\n",
       "      <td>0.0</td>\n",
       "      <td>0.0</td>\n",
       "      <td>0.0</td>\n",
       "      <td>0.0</td>\n",
       "      <td>0.0</td>\n",
       "      <td>0.0</td>\n",
       "      <td>0.0</td>\n",
       "      <td>0.0</td>\n",
       "      <td>0.0</td>\n",
       "    </tr>\n",
       "    <tr>\n",
       "      <th>1979-01-01 02:00:00+00:00</th>\n",
       "      <td>1979-01-01T02:00:00Z</td>\n",
       "      <td>0.0</td>\n",
       "      <td>0.0</td>\n",
       "      <td>0.0</td>\n",
       "      <td>0.0</td>\n",
       "      <td>0.0</td>\n",
       "      <td>0.0</td>\n",
       "      <td>0.0</td>\n",
       "      <td>0.0</td>\n",
       "      <td>0.0</td>\n",
       "      <td>...</td>\n",
       "      <td>0.0</td>\n",
       "      <td>0.0</td>\n",
       "      <td>0.0</td>\n",
       "      <td>0.0</td>\n",
       "      <td>0.0</td>\n",
       "      <td>0.0</td>\n",
       "      <td>0.0</td>\n",
       "      <td>0.0</td>\n",
       "      <td>0.0</td>\n",
       "      <td>0.0</td>\n",
       "    </tr>\n",
       "    <tr>\n",
       "      <th>1979-01-01 03:00:00+00:00</th>\n",
       "      <td>1979-01-01T03:00:00Z</td>\n",
       "      <td>0.0</td>\n",
       "      <td>0.0</td>\n",
       "      <td>0.0</td>\n",
       "      <td>0.0</td>\n",
       "      <td>0.0</td>\n",
       "      <td>0.0</td>\n",
       "      <td>0.0</td>\n",
       "      <td>0.0</td>\n",
       "      <td>0.0</td>\n",
       "      <td>...</td>\n",
       "      <td>0.0</td>\n",
       "      <td>0.0</td>\n",
       "      <td>0.0</td>\n",
       "      <td>0.0</td>\n",
       "      <td>0.0</td>\n",
       "      <td>0.0</td>\n",
       "      <td>0.0</td>\n",
       "      <td>0.0</td>\n",
       "      <td>0.0</td>\n",
       "      <td>0.0</td>\n",
       "    </tr>\n",
       "    <tr>\n",
       "      <th>1979-01-01 04:00:00+00:00</th>\n",
       "      <td>1979-01-01T04:00:00Z</td>\n",
       "      <td>0.0</td>\n",
       "      <td>0.0</td>\n",
       "      <td>0.0</td>\n",
       "      <td>0.0</td>\n",
       "      <td>0.0</td>\n",
       "      <td>0.0</td>\n",
       "      <td>0.0</td>\n",
       "      <td>0.0</td>\n",
       "      <td>0.0</td>\n",
       "      <td>...</td>\n",
       "      <td>0.0</td>\n",
       "      <td>0.0</td>\n",
       "      <td>0.0</td>\n",
       "      <td>0.0</td>\n",
       "      <td>0.0</td>\n",
       "      <td>0.0</td>\n",
       "      <td>0.0</td>\n",
       "      <td>0.0</td>\n",
       "      <td>0.0</td>\n",
       "      <td>0.0</td>\n",
       "    </tr>\n",
       "  </tbody>\n",
       "</table>\n",
       "<p>5 rows × 33 columns</p>\n",
       "</div>"
      ],
      "text/plain": [
       "                                       utc_time  AUT  BEL  BGR  BIH  CHE  CYP  \\\n",
       "utc_time                                                                        \n",
       "1979-01-01 00:00:00+00:00  1979-01-01T00:00:00Z  0.0  0.0  0.0  0.0  0.0  0.0   \n",
       "1979-01-01 01:00:00+00:00  1979-01-01T01:00:00Z  0.0  0.0  0.0  0.0  0.0  0.0   \n",
       "1979-01-01 02:00:00+00:00  1979-01-01T02:00:00Z  0.0  0.0  0.0  0.0  0.0  0.0   \n",
       "1979-01-01 03:00:00+00:00  1979-01-01T03:00:00Z  0.0  0.0  0.0  0.0  0.0  0.0   \n",
       "1979-01-01 04:00:00+00:00  1979-01-01T04:00:00Z  0.0  0.0  0.0  0.0  0.0  0.0   \n",
       "\n",
       "                           CZE  DEU  DNK  ...  MLT  NLD  NOR  POL  PRT  ROU  \\\n",
       "utc_time                                  ...                                 \n",
       "1979-01-01 00:00:00+00:00  0.0  0.0  0.0  ...  0.0  0.0  0.0  0.0  0.0  0.0   \n",
       "1979-01-01 01:00:00+00:00  0.0  0.0  0.0  ...  0.0  0.0  0.0  0.0  0.0  0.0   \n",
       "1979-01-01 02:00:00+00:00  0.0  0.0  0.0  ...  0.0  0.0  0.0  0.0  0.0  0.0   \n",
       "1979-01-01 03:00:00+00:00  0.0  0.0  0.0  ...  0.0  0.0  0.0  0.0  0.0  0.0   \n",
       "1979-01-01 04:00:00+00:00  0.0  0.0  0.0  ...  0.0  0.0  0.0  0.0  0.0  0.0   \n",
       "\n",
       "                           SRB  SVK  SVN  SWE  \n",
       "utc_time                                       \n",
       "1979-01-01 00:00:00+00:00  0.0  0.0  0.0  0.0  \n",
       "1979-01-01 01:00:00+00:00  0.0  0.0  0.0  0.0  \n",
       "1979-01-01 02:00:00+00:00  0.0  0.0  0.0  0.0  \n",
       "1979-01-01 03:00:00+00:00  0.0  0.0  0.0  0.0  \n",
       "1979-01-01 04:00:00+00:00  0.0  0.0  0.0  0.0  \n",
       "\n",
       "[5 rows x 33 columns]"
      ]
     },
     "execution_count": 11,
     "metadata": {},
     "output_type": "execute_result"
    }
   ],
   "source": [
    "data_solar.head()"
   ]
  },
  {
   "cell_type": "markdown",
   "metadata": {},
   "source": [
    "We will use timeseries for Portugal in this excercise"
   ]
  },
  {
   "cell_type": "code",
   "execution_count": 12,
   "metadata": {
    "ExecuteTime": {
     "end_time": "2024-05-24T07:37:33.742259Z",
     "start_time": "2024-05-24T07:37:33.735104Z"
    }
   },
   "outputs": [],
   "source": [
    "country = 'PRT'"
   ]
  },
  {
   "cell_type": "markdown",
   "metadata": {},
   "source": [
    "### Join capacity and dispatch optimization"
   ]
  },
  {
   "cell_type": "markdown",
   "metadata": {},
   "source": [
    "For building the model, we start again by initialising an empty network, adding the snapshots, and the electricity bus."
   ]
  },
  {
   "cell_type": "code",
   "execution_count": 13,
   "metadata": {
    "ExecuteTime": {
     "end_time": "2024-05-24T07:37:33.819917Z",
     "start_time": "2024-05-24T07:37:33.743147Z"
    }
   },
   "outputs": [
    {
     "data": {
      "text/plain": [
       "DatetimeIndex(['2015-01-01 00:00:00', '2015-01-01 01:00:00',\n",
       "               '2015-01-01 02:00:00', '2015-01-01 03:00:00',\n",
       "               '2015-01-01 04:00:00', '2015-01-01 05:00:00',\n",
       "               '2015-01-01 06:00:00', '2015-01-01 07:00:00',\n",
       "               '2015-01-01 08:00:00', '2015-01-01 09:00:00',\n",
       "               ...\n",
       "               '2015-12-31 14:00:00', '2015-12-31 15:00:00',\n",
       "               '2015-12-31 16:00:00', '2015-12-31 17:00:00',\n",
       "               '2015-12-31 18:00:00', '2015-12-31 19:00:00',\n",
       "               '2015-12-31 20:00:00', '2015-12-31 21:00:00',\n",
       "               '2015-12-31 22:00:00', '2015-12-31 23:00:00'],\n",
       "              dtype='datetime64[ns]', name='snapshot', length=8760, freq=None)"
      ]
     },
     "execution_count": 13,
     "metadata": {},
     "output_type": "execute_result"
    }
   ],
   "source": [
    "n = pypsa.Network()\n",
    "hours_in_2015 = pd.date_range('2015-01-01 00:00Z',\n",
    "                              '2015-12-31 23:00Z',\n",
    "                              freq='h')\n",
    "\n",
    "n.set_snapshots(hours_in_2015.values)\n",
    "\n",
    "n.add(\"Bus\",\n",
    "            \"electricity\")\n",
    "\n",
    "n.snapshots"
   ]
  },
  {
   "cell_type": "markdown",
   "metadata": {},
   "source": [
    "We add all the technologies we are going to include as carriers. Defining carriers is not mandatory but will ease plotting and assigning emissions of CO2 in future steps. "
   ]
  },
  {
   "cell_type": "code",
   "execution_count": 14,
   "metadata": {
    "ExecuteTime": {
     "end_time": "2024-05-24T07:37:33.861842Z",
     "start_time": "2024-05-24T07:37:33.856810Z"
    }
   },
   "outputs": [
    {
     "data": {
      "text/plain": [
       "Index(['onwind', 'solar', 'OCGT', 'CCGT', 'battery storage'], dtype='object')"
      ]
     },
     "execution_count": 14,
     "metadata": {},
     "output_type": "execute_result"
    }
   ],
   "source": [
    "carriers = [\n",
    "    \"onwind\",\n",
    "    \"solar\",\n",
    "    \"OCGT\",\n",
    "    \"CCGT\",\n",
    "    \"battery storage\",\n",
    "]\n",
    "\n",
    "n.add(\n",
    "    \"Carrier\",\n",
    "    carriers,\n",
    "    color=[\"dodgerblue\", \"gold\", \"indianred\",\"yellow-green\", \"brown\"],\n",
    "    co2_emissions=[costs.at[c, \"CO2 intensity\"] for c in carriers],\n",
    ")"
   ]
  },
  {
   "cell_type": "markdown",
   "metadata": {},
   "source": [
    "Next, we add the demand time series to the model."
   ]
  },
  {
   "cell_type": "code",
   "execution_count": 15,
   "metadata": {
    "ExecuteTime": {
     "end_time": "2024-05-24T07:37:33.866618Z",
     "start_time": "2024-05-24T07:37:33.862680Z"
    }
   },
   "outputs": [
    {
     "data": {
      "text/plain": [
       "Index(['demand'], dtype='object')"
      ]
     },
     "execution_count": 15,
     "metadata": {},
     "output_type": "execute_result"
    }
   ],
   "source": [
    "# add load to the bus\n",
    "n.add(\"Load\",\n",
    "      \"demand\",\n",
    "      bus=\"electricity\",\n",
    "      p_set=data_el[country].values)"
   ]
  },
  {
   "cell_type": "markdown",
   "metadata": {},
   "source": [
    "Let's have a check whether the data was read-in correctly."
   ]
  },
  {
   "cell_type": "code",
   "execution_count": 16,
   "metadata": {
    "ExecuteTime": {
     "end_time": "2024-05-24T07:37:34.547493Z",
     "start_time": "2024-05-24T07:37:33.867650Z"
    }
   },
   "outputs": [
    {
     "data": {
      "text/plain": [
       "<Axes: xlabel='snapshot', ylabel='MW'>"
      ]
     },
     "execution_count": 16,
     "metadata": {},
     "output_type": "execute_result"
    },
    {
     "data": {
      "image/png": "[encoded data removed]",
      "text/plain": [
       "<Figure size 600x200 with 1 Axes>"
      ]
     },
     "metadata": {},
     "output_type": "display_data"
    }
   ],
   "source": [
    "n.loads_t.p_set.plot(figsize=(6, 2), ylabel=\"MW\")"
   ]
  },
  {
   "cell_type": "markdown",
   "metadata": {},
   "source": [
    "We add now the generators and set up their capacities to be extendable so that they can be optimized together with the dispatch time series. For the wind and solar generator, we need to indicate the capacity factor or maximum power per unit 'p_max_pu'"
   ]
  },
  {
   "cell_type": "code",
   "execution_count": 17,
   "metadata": {
    "ExecuteTime": {
     "end_time": "2024-05-24T07:37:34.553677Z",
     "start_time": "2024-05-24T07:37:34.549041Z"
    }
   },
   "outputs": [
    {
     "data": {
      "text/plain": [
       "Index(['solar'], dtype='object')"
      ]
     },
     "execution_count": 17,
     "metadata": {},
     "output_type": "execute_result"
    }
   ],
   "source": [
    "n.add(\n",
    "    \"Generator\",\n",
    "    \"OCGT\",\n",
    "    bus=\"electricity\",\n",
    "    carrier=\"OCGT\",\n",
    "    capital_cost=costs.at[\"OCGT\", \"capital_cost\"],\n",
    "    marginal_cost=costs.at[\"OCGT\", \"marginal_cost\"],\n",
    "    efficiency=costs.at[\"OCGT\", \"efficiency\"],\n",
    "    p_nom_extendable=True,\n",
    ")\n",
    "\n",
    "CF_wind = data_wind[country][[hour.strftime(\"%Y-%m-%dT%H:%M:%SZ\") for hour in n.snapshots]]\n",
    "n.add(\n",
    "        \"Generator\",\n",
    "        \"onwind\",\n",
    "        bus=\"electricity\",\n",
    "        carrier=\"onwind\",\n",
    "        p_max_pu=CF_wind.values,\n",
    "        capital_cost=costs.at[\"onwind\", \"capital_cost\"],\n",
    "        marginal_cost=costs.at[\"onwind\", \"marginal_cost\"],\n",
    "        efficiency=costs.at[\"onwind\", \"efficiency\"],\n",
    "        p_nom_extendable=True,\n",
    "    )\n",
    "\n",
    "CF_solar = data_solar[country][[hour.strftime(\"%Y-%m-%dT%H:%M:%SZ\") for hour in n.snapshots]]\n",
    "n.add(\n",
    "        \"Generator\",\n",
    "        \"solar\",\n",
    "        bus=\"electricity\",\n",
    "        carrier=\"solar\",\n",
    "        p_max_pu= CF_solar.values,\n",
    "        capital_cost=costs.at[\"solar\", \"capital_cost\"],\n",
    "        marginal_cost=costs.at[\"solar\", \"marginal_cost\"],\n",
    "        efficiency=costs.at[\"solar\", \"efficiency\"],\n",
    "        p_nom_extendable=True,\n",
    "    )"
   ]
  },
  {
   "cell_type": "markdown",
   "metadata": {},
   "source": [
    "So let's make sure the capacity factors are read-in correctly."
   ]
  },
  {
   "cell_type": "code",
   "execution_count": 18,
   "metadata": {
    "ExecuteTime": {
     "end_time": "2024-05-24T07:37:34.742640Z",
     "start_time": "2024-05-24T07:37:34.562676Z"
    }
   },
   "outputs": [
    {
     "data": {
      "text/plain": [
       "<Axes: xlabel='snapshot', ylabel='CF'>"
      ]
     },
     "execution_count": 18,
     "metadata": {},
     "output_type": "execute_result"
    },
    {
     "data": {
      "image/png": "[encoded data removed]",
      "text/plain": [
       "<Figure size 600x200 with 1 Axes>"
      ]
     },
     "metadata": {},
     "output_type": "display_data"
    }
   ],
   "source": [
    "n.generators_t.p_max_pu.loc[\"2015-01\"].plot(figsize=(6, 2), ylabel=\"CF\")"
   ]
  },
  {
   "cell_type": "markdown",
   "metadata": {},
   "source": [
    "We add the battery storage, assuming a fixed energy-to-power ratio of 2 hours, i.e. if fully charged, the battery can discharge at full capacity for 2 hours. \n",
    "\n",
    "For the capital cost, we have to factor in both the capacity and energy cost of the storage. \n",
    "\n",
    "We include the charging and discharging efficiencies we enforce a cyclic state-of-charge condition, i.e. the state of charge at the beginning of the optimisation period must equal the final state of charge."
   ]
  },
  {
   "cell_type": "code",
   "execution_count": 19,
   "metadata": {},
   "outputs": [
    {
     "data": {
      "text/plain": [
       "Index(['battery storage'], dtype='object')"
      ]
     },
     "execution_count": 19,
     "metadata": {},
     "output_type": "execute_result"
    }
   ],
   "source": [
    "n.add(\n",
    "    \"StorageUnit\",\n",
    "    \"battery storage\",\n",
    "    bus=\"electricity\",\n",
    "    carrier=\"battery storage\",\n",
    "    max_hours=2,\n",
    "    capital_cost=costs.at[\"battery inverter\", \"capital_cost\"]\n",
    "    + 2 * costs.at[\"battery storage\", \"capital_cost\"],\n",
    "    efficiency_store=costs.at[\"battery inverter\", \"efficiency\"],\n",
    "    efficiency_dispatch=costs.at[\"battery inverter\", \"efficiency\"],\n",
    "    p_nom_extendable=True,\n",
    "    cyclic_state_of_charge=True,\n",
    ")"
   ]
  },
  {
   "cell_type": "markdown",
   "metadata": {},
   "source": [
    "We add the Combined Cycle Gas Turbine (CCGT). In this case, its capacity is not extendable but fixed to 1 GW. "
   ]
  },
  {
   "cell_type": "code",
   "execution_count": 20,
   "metadata": {},
   "outputs": [
    {
     "data": {
      "text/plain": [
       "Index(['CCGT'], dtype='object')"
      ]
     },
     "execution_count": 20,
     "metadata": {},
     "output_type": "execute_result"
    }
   ],
   "source": [
    "n.add(\n",
    "    \"Generator\",\n",
    "    \"CCGT\",\n",
    "    bus=\"electricity\",\n",
    "    carrier=\"CCGT\",\n",
    "    capital_cost=costs.at[\"CCGT\", \"capital_cost\"],\n",
    "    marginal_cost=costs.at[\"CCGT\", \"marginal_cost\"],\n",
    "    efficiency=costs.at[\"CCGT\", \"efficiency\"],\n",
    "    p_nom=6000, #6 Gw\n",
    ")"
   ]
  },
  {
   "cell_type": "markdown",
   "metadata": {},
   "source": [
    "### Model Run"
   ]
  },
  {
   "cell_type": "markdown",
   "metadata": {},
   "source": [
    "Before solving the problem we add a CO$_2$ emission limit as global constraint:"
   ]
  },
  {
   "cell_type": "code",
   "execution_count": 36,
   "metadata": {},
   "outputs": [
    {
     "data": {
      "text/plain": [
       "Index(['CO2Limit'], dtype='object')"
      ]
     },
     "execution_count": 36,
     "metadata": {},
     "output_type": "execute_result"
    }
   ],
   "source": [
    "n.add(\n",
    "    \"GlobalConstraint\",\n",
    "    \"CO2Limit\",\n",
    "    carrier_attribute=\"co2_emissions\",\n",
    "    sense=\"<=\",\n",
    "    constant=5000000, #5MtCO2\n",
    ")"
   ]
  },
  {
   "cell_type": "markdown",
   "metadata": {},
   "source": [
    "We can already solved the model using the open-solver \"highs\" or the commercial solver \"gurobi\" with the academic license"
   ]
  },
  {
   "cell_type": "code",
   "execution_count": 37,
   "metadata": {
    "ExecuteTime": {
     "end_time": "2024-05-24T07:37:35.306567Z",
     "start_time": "2024-05-24T07:37:34.744060Z"
    }
   },
   "outputs": [
    {
     "name": "stderr",
     "output_type": "stream",
     "text": [
      "WARNING:pypsa.consistency:The following buses have carriers which are not defined:\n",
      "Index(['electricity'], dtype='object', name='Bus')\n",
      "WARNING:pypsa.consistency:The following buses have carriers which are not defined:\n",
      "Index(['electricity'], dtype='object', name='Bus')\n",
      "INFO:linopy.model: Solve problem using Highs solver\n",
      "INFO:linopy.io:Writing objective.\n",
      "Writing constraints.: 100%|\u001b[38;2;128;191;255m██████████\u001b[0m| 17/17 [00:00<00:00, 17.27it/s]\n",
      "Writing continuous variables.: 100%|\u001b[38;2;128;191;255m██████████\u001b[0m| 6/6 [00:00<00:00, 31.69it/s]\n",
      "INFO:linopy.io: Writing time: 1.28s\n",
      "INFO:linopy.constants: Optimization successful: \n",
      "Status: ok\n",
      "Termination condition: optimal\n",
      "Solution: 61324 primals, 140165 duals\n",
      "Objective: 2.76e+09\n",
      "Solver model: available\n",
      "Solver message: optimal\n",
      "\n",
      "INFO:pypsa.optimization.optimize:The shadow-prices of the constraints Generator-fix-p-lower, Generator-fix-p-upper, Generator-ext-p-lower, Generator-ext-p-upper, StorageUnit-ext-p_dispatch-lower, StorageUnit-ext-p_dispatch-upper, StorageUnit-ext-p_store-lower, StorageUnit-ext-p_store-upper, StorageUnit-ext-state_of_charge-lower, StorageUnit-ext-state_of_charge-upper, StorageUnit-energy_balance were not assigned to the network.\n"
     ]
    },
    {
     "data": {
      "text/plain": [
       "('ok', 'optimal')"
      ]
     },
     "execution_count": 37,
     "metadata": {},
     "output_type": "execute_result"
    }
   ],
   "source": [
    "n.optimize(solver_name=\"highs\")"
   ]
  },
  {
   "cell_type": "markdown",
   "metadata": {},
   "source": [
    "Now, we can look at the results and evaluate the total system cost (in billion Euros per year)"
   ]
  },
  {
   "cell_type": "code",
   "execution_count": 40,
   "metadata": {
    "ExecuteTime": {
     "end_time": "2024-05-24T07:37:35.309989Z",
     "start_time": "2024-05-24T07:37:35.307258Z"
    }
   },
   "outputs": [
    {
     "data": {
      "text/plain": [
       "2.7599916471178565"
      ]
     },
     "execution_count": 40,
     "metadata": {},
     "output_type": "execute_result"
    }
   ],
   "source": [
    "n.objective / 1e9"
   ]
  },
  {
   "cell_type": "markdown",
   "metadata": {},
   "source": [
    "The optimised capacities in GW:"
   ]
  },
  {
   "cell_type": "code",
   "execution_count": 41,
   "metadata": {
    "ExecuteTime": {
     "end_time": "2024-05-24T07:37:35.321024Z",
     "start_time": "2024-05-24T07:37:35.316333Z"
    }
   },
   "outputs": [
    {
     "data": {
      "text/plain": [
       "Generator\n",
       "OCGT      -0.000000\n",
       "onwind    12.476224\n",
       "solar     10.342911\n",
       "CCGT       6.000000\n",
       "Name: p_nom_opt, dtype: float64"
      ]
     },
     "execution_count": 41,
     "metadata": {},
     "output_type": "execute_result"
    }
   ],
   "source": [
    "n.generators.p_nom_opt.div(1e3)  # MW -> GW"
   ]
  },
  {
   "cell_type": "raw",
   "metadata": {},
   "source": [
    "The optimised battery capacity can be calcualted as "
   ]
  },
  {
   "cell_type": "code",
   "execution_count": 42,
   "metadata": {},
   "outputs": [
    {
     "data": {
      "text/plain": [
       "StorageUnit\n",
       "battery storage    4.915387\n",
       "Name: p_nom_opt, dtype: float64"
      ]
     },
     "execution_count": 42,
     "metadata": {},
     "output_type": "execute_result"
    }
   ],
   "source": [
    "n.storage_units.p_nom_opt.div(1e3)  # MW -> GW"
   ]
  },
  {
   "cell_type": "markdown",
   "metadata": {},
   "source": [
    "The total energy generation by technology in TWh:"
   ]
  },
  {
   "cell_type": "code",
   "execution_count": 43,
   "metadata": {
    "ExecuteTime": {
     "end_time": "2024-05-24T07:37:35.325340Z",
     "start_time": "2024-05-24T07:37:35.321798Z"
    }
   },
   "outputs": [
    {
     "data": {
      "text/plain": [
       "Generator\n",
       "OCGT       0.000000\n",
       "onwind    18.934473\n",
       "solar     15.583091\n",
       "CCGT      14.646465\n",
       "dtype: float64"
      ]
     },
     "execution_count": 43,
     "metadata": {},
     "output_type": "execute_result"
    }
   ],
   "source": [
    "n.generators_t.p.sum().div(1e6)  # MWh -> TWh"
   ]
  },
  {
   "cell_type": "markdown",
   "metadata": {},
   "source": [
    "We can plot the dispatch of every generator thoughout January"
   ]
  },
  {
   "cell_type": "code",
   "execution_count": 44,
   "metadata": {},
   "outputs": [
    {
     "data": {
      "text/plain": [
       "<Axes: xlabel='snapshot', ylabel='dispatch'>"
      ]
     },
     "execution_count": 44,
     "metadata": {},
     "output_type": "execute_result"
    },
    {
     "data": {
      "image/png": "[encoded data removed]",
      "text/plain": [
       "<Figure size 600x200 with 1 Axes>"
      ]
     },
     "metadata": {},
     "output_type": "display_data"
    }
   ],
   "source": [
    "n.generators_t.p.loc[\"2015-01\"].plot.area(figsize=(6, 2), ylabel=\"dispatch\")"
   ]
  },
  {
   "cell_type": "markdown",
   "metadata": {},
   "source": [
    "We can also plot the charging and discharging of the battery"
   ]
  },
  {
   "cell_type": "code",
   "execution_count": 45,
   "metadata": {},
   "outputs": [
    {
     "data": {
      "text/plain": [
       "<Axes: xlabel='snapshot', ylabel='battery'>"
      ]
     },
     "execution_count": 45,
     "metadata": {},
     "output_type": "execute_result"
    },
    {
     "data": {
      "image/png": "[encoded data removed]",
      "text/plain": [
       "<Figure size 600x200 with 1 Axes>"
      ]
     },
     "metadata": {},
     "output_type": "display_data"
    }
   ],
   "source": [
    "n.storage_units_t.p.loc[\"2015-01\"].plot(figsize=(6, 2), ylabel=\"battery\")"
   ]
  },
  {
   "cell_type": "markdown",
   "metadata": {},
   "source": [
    "**b) What is the CO2 tax required to attain such CO2 emissions limit?**"
   ]
  },
  {
   "cell_type": "markdown",
   "metadata": {},
   "source": [
    "We can read the Lagrange/KKT multiplier associated to the maximum CO2 limit constraint"
   ]
  },
  {
   "cell_type": "code",
   "execution_count": 48,
   "metadata": {},
   "outputs": [
    {
     "data": {
      "text/html": [
       "<div>\n",
       "<style scoped>\n",
       "    .dataframe tbody tr th:only-of-type {\n",
       "        vertical-align: middle;\n",
       "    }\n",
       "\n",
       "    .dataframe tbody tr th {\n",
       "        vertical-align: top;\n",
       "    }\n",
       "\n",
       "    .dataframe thead th {\n",
       "        text-align: right;\n",
       "    }\n",
       "</style>\n",
       "<table border=\"1\" class=\"dataframe\">\n",
       "  <thead>\n",
       "    <tr style=\"text-align: right;\">\n",
       "      <th></th>\n",
       "      <th>type</th>\n",
       "      <th>investment_period</th>\n",
       "      <th>carrier_attribute</th>\n",
       "      <th>sense</th>\n",
       "      <th>constant</th>\n",
       "      <th>mu</th>\n",
       "    </tr>\n",
       "    <tr>\n",
       "      <th>GlobalConstraint</th>\n",
       "      <th></th>\n",
       "      <th></th>\n",
       "      <th></th>\n",
       "      <th></th>\n",
       "      <th></th>\n",
       "      <th></th>\n",
       "    </tr>\n",
       "  </thead>\n",
       "  <tbody>\n",
       "    <tr>\n",
       "      <th>CO2Limit</th>\n",
       "      <td>primary_energy</td>\n",
       "      <td>NaN</td>\n",
       "      <td>co2_emissions</td>\n",
       "      <td>&lt;=</td>\n",
       "      <td>5000000.0</td>\n",
       "      <td>-189.568204</td>\n",
       "    </tr>\n",
       "  </tbody>\n",
       "</table>\n",
       "</div>"
      ],
      "text/plain": [
       "                            type  investment_period carrier_attribute sense  \\\n",
       "GlobalConstraint                                                              \n",
       "CO2Limit          primary_energy                NaN     co2_emissions    <=   \n",
       "\n",
       "                   constant          mu  \n",
       "GlobalConstraint                         \n",
       "CO2Limit          5000000.0 -189.568204  "
      ]
     },
     "execution_count": 48,
     "metadata": {},
     "output_type": "execute_result"
    }
   ],
   "source": [
    "n.global_constraints"
   ]
  },
  {
   "cell_type": "markdown",
   "metadata": {},
   "source": [
    "In this case, we get a negative multiplier indicating that when the constant in the constraint equation (allowed CO2 emisssions) increases, the objective function (total system costs) decreases. "
   ]
  },
  {
   "cell_type": "code",
   "execution_count": null,
   "metadata": {},
   "outputs": [],
   "source": []
  }
 ],
 "metadata": {
  "kernelspec": {
   "display_name": "Python 3 (ipykernel)",
   "language": "python",
   "name": "python3"
  },
  "language_info": {
   "codemirror_mode": {
    "name": "ipython",
    "version": 3
   },
   "file_extension": ".py",
   "mimetype": "text/x-python",
   "name": "python",
   "nbconvert_exporter": "python",
   "pygments_lexer": "ipython3",
   "version": "3.12.8"
  }
 },
 "nbformat": 4,
 "nbformat_minor": 4
}
