{
 "cells": [
  {
   "cell_type": "markdown",
   "metadata": {
    "vscode": {
     "languageId": "plaintext"
    }
   },
   "source": [
    "# Problem 7.1"
   ]
  },
  {
   "cell_type": "markdown",
   "metadata": {},
   "source": [
    "**Integrated Energy Grids**\n",
    "\n",
    "\n",
    "**Problem 7.1**"
   ]
  },
  {
   "cell_type": "markdown",
   "metadata": {},
   "source": [
    "**A district heating system is used to transport heat generated using a heat pump to two distant buildings. The pipeline diameter is 0.5 m, the water velocity is 2 m/s, the supply temperature $T^S$ is variable through the network and the return temperature is $T^R$=40$^{\\circ}$C. Assume the mass flow to be constant and that the heat losses in the pipelines due to dissipation to the ambient can be neglected.**\n",
    "\n",
    "**The heat transfer coefficient of building A is $U_A$ = 2 MW/k, the heat transfer coefficient of building B is $U_B$ = 3 MW/k, the ambient temperature is 5$^{\\circ}$C and the interior comfort temperature of the buildings must be 20$^{\\circ}$C.**\n",
    "\n",
    "**a) Calculate the rate of heat extracted in every building.**\n",
    "\n",
    "**b) Calculate the input and output temperature at the heat xxchanger that serves every building.**\n",
    "\n",
    "**c) Calculate the supply temperature required for the water flow supplied by the heat pump.**\n"
   ]
  },
  {
   "cell_type": "markdown",
   "metadata": {},
   "source": [
    ":::{note}\n",
    "If you have not yet set up Python on your computer, you can execute this tutorial in your browser via [Google Colab](https://colab.research.google.com/). Click on the rocket in the top right corner and launch \"Colab\". If that doesn't work download the `.ipynb` file and import it in [Google Colab](https://colab.research.google.com/).\n",
    "\n",
    ":::"
   ]
  },
  {
   "cell_type": "code",
   "execution_count": 1,
   "metadata": {},
   "outputs": [],
   "source": [
    "import numpy as np"
   ]
  },
  {
   "cell_type": "markdown",
   "metadata": {},
   "source": [
    "We can calculate the rate of heat extracted in every building as\n",
    "\n",
    "$q_{A,B}=U_{A,B}(T_{indoor}-T_{ambient})$\n"
   ]
  },
  {
   "cell_type": "code",
   "execution_count": 2,
   "metadata": {},
   "outputs": [
    {
     "name": "stdout",
     "output_type": "stream",
     "text": [
      "30 MW are extracted in building A.\n",
      "45 MW are extracted in building B.\n"
     ]
    }
   ],
   "source": [
    "T_ind = 20 #C\n",
    "T_amb = 5 #C\n",
    "U_A = 2 # MW/K\n",
    "U_B = 3 # MW/K\n",
    "\n",
    "q_A = U_A*(T_ind-T_amb)\n",
    "q_B = U_B*(T_ind-T_amb)\n",
    "print(str(q_A) + \" MW are extracted in building A.\")\n",
    "print(str(q_B) + \" MW are extracted in building B.\")"
   ]
  },
  {
   "cell_type": "markdown",
   "metadata": {},
   "source": [
    "**b) Calculate the input and output temperature at the Heat Exchanger that serves every building.**"
   ]
  },
  {
   "cell_type": "markdown",
   "metadata": {},
   "source": [
    "If we apply the energy nodal balance to every node in the network\n",
    "\n",
    "$q_{heatpump}=c_pm(T^S-T^{R})$\n",
    "\n",
    "$q_{buildingA}=c_pm(T^S-T^{2})$\n",
    "\n",
    "$q_{buildingB}=c_pm(T^{2}-T^{R})$\n",
    "\n",
    "The mass flow can be estimated as \n",
    "\n",
    "$m=\\rho u A$"
   ]
  },
  {
   "cell_type": "code",
   "execution_count": 3,
   "metadata": {},
   "outputs": [
    {
     "data": {
      "text/plain": [
       "392.6990816987241"
      ]
     },
     "execution_count": 3,
     "metadata": {},
     "output_type": "execute_result"
    }
   ],
   "source": [
    "rho = 1000 # kg/m3\n",
    "velocity = 2 # m/s\n",
    "d = 0.5 # m\n",
    "c_p = 4186 #J/kgK\n",
    "u = 2 #m/s\n",
    "T_R= 40 #C\n",
    "\n",
    "A =np.pi*(d/2)**2\n",
    "m = rho*u*A\n",
    "m"
   ]
  },
  {
   "cell_type": "code",
   "execution_count": 4,
   "metadata": {},
   "outputs": [
    {
     "name": "stdout",
     "output_type": "stream",
     "text": [
      "Building B: input temperature: 67.4C, output temperature : 40C\n",
      "Building A: input temperature: 85.6C, output temperature : 67.4C\n"
     ]
    }
   ],
   "source": [
    "T_2=T_R + q_B*1000000/(c_p*m)\n",
    "T_S=T_2 + q_A*1000000/(c_p*m)\n",
    "print(\"Building B: input temperature: \" + str(round(T_2,1)) + \"C, output temperature : \" +str(T_R) + \"C\")\n",
    "print(\"Building A: input temperature: \" + str(round(T_S,1)) + \"C, output temperature : \" +str(round(T_2,1)) + \"C\")"
   ]
  },
  {
   "cell_type": "markdown",
   "metadata": {},
   "source": [
    "**c) Calculate the supply temperature required for the water flow supplied by the heat pump.**"
   ]
  },
  {
   "cell_type": "markdown",
   "metadata": {},
   "source": [
    "Assuming that the heat losses through dissipation in the pipes can be neglected, the heatpump must supply the mass flow at the input temperature of building A. "
   ]
  },
  {
   "cell_type": "markdown",
   "metadata": {},
   "source": [
    "**d) Assuming that the electricity demand required for pumping the water is proportional to the cubic mass flow with a proportionality constant of 0.006 Ws$^3$kg$^{-3}$, calculate its relative size compared to the thermal power supplied by the district heating system**"
   ]
  },
  {
   "cell_type": "code",
   "execution_count": 7,
   "metadata": {},
   "outputs": [
    {
     "name": "stdout",
     "output_type": "stream",
     "text": [
      "Electricity demand represents : 0.5 % of thermal energy supply.\n"
     ]
    }
   ],
   "source": [
    "c = 0.006 # Ws^3kg^-3\n",
    "electricity_demand = c*m**3\n",
    "relative=electricity_demand/(1000000*(q_A+q_B))\n",
    "\n",
    "print(\"Electricity demand represents : \" + str(round(relative*100,1)) + \" % of thermal energy supply.\")"
   ]
  },
  {
   "cell_type": "code",
   "execution_count": null,
   "metadata": {},
   "outputs": [],
   "source": []
  }
 ],
 "metadata": {
  "kernelspec": {
   "display_name": "Python 3 (ipykernel)",
   "language": "python",
   "name": "python3"
  },
  "language_info": {
   "codemirror_mode": {
    "name": "ipython",
    "version": 3
   },
   "file_extension": ".py",
   "mimetype": "text/x-python",
   "name": "python",
   "nbconvert_exporter": "python",
   "pygments_lexer": "ipython3",
   "version": "3.12.8"
  }
 },
 "nbformat": 4,
 "nbformat_minor": 4
}
