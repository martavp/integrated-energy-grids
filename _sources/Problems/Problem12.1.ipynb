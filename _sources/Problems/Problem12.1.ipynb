{
 "cells": [
  {
   "cell_type": "markdown",
   "metadata": {},
   "source": [
    "# Problem 12.1"
   ]
  },
  {
   "cell_type": "markdown",
   "metadata": {},
   "source": [
    "**Integrated Energy Grids**\n",
    "\n",
    "**Problem 12.1. Hydrogen production in an energy island.**\n",
    "\n",
    "**In this problem, we want to build a stylized mode of hydrogen production in an energy island. Assume an offshore generator and an electrolyzer with the cost in Table. For the offshore generator, assume the [capacity factors for Denmark](https://zenodo.org/record/3253876#.XSiVOEdS8l0).**\n",
    "\n",
    "**An annual hydrogen demand of 200 GWh must be delivered and, for the sake of simplicity, assume that the island includes a hydrogen storage with no cost. The electrolyzer efficiency is assumed to be 62\\%.**"
   ]
  },
  {
   "cell_type": "markdown",
   "metadata": {},
   "source": [
    ":::{note}\n",
    "If you have not yet set up Python on your computer, you can execute this tutorial in your browser via [Google Colab](https://colab.research.google.com/). Click on the rocket in the top right corner and launch \"Colab\". If that doesn't work download the `.ipynb` file and import it in [Google Colab](https://colab.research.google.com/).\n",
    "\n",
    "Then install `pandas` and `numpy` by executing the following command in a Jupyter cell at the top of the notebook.\n",
    "\n",
    "```sh\n",
    "!pip install pandas pypsa\n",
    "```\n",
    ":::"
   ]
  },
  {
   "cell_type": "code",
   "execution_count": 13,
   "metadata": {
    "ExecuteTime": {
     "end_time": "2024-05-24T08:46:20.357375Z",
     "start_time": "2024-05-24T08:46:17.846410Z"
    },
    "jp-MarkdownHeadingCollapsed": true,
    "tags": []
   },
   "outputs": [],
   "source": [
    "import matplotlib.pyplot as plt\n",
    "import pandas as pd\n",
    "import numpy as np\n",
    "import pypsa"
   ]
  },
  {
   "cell_type": "markdown",
   "metadata": {
    "tags": []
   },
   "source": [
    "## Prerequisites: handling technology data and costs"
   ]
  },
  {
   "cell_type": "markdown",
   "metadata": {},
   "source": [
    "We maintain a database (https://github.com/PyPSA/technology-data) which collects assumptions and projections for energy system technologies (such as costs, efficiencies, lifetimes, etc.) for given years, which we can load into a `pandas.DataFrame`. This requires some pre-processing to load (e.g. converting units, setting defaults, re-arranging dimensions):"
   ]
  },
  {
   "cell_type": "code",
   "execution_count": 14,
   "metadata": {
    "ExecuteTime": {
     "end_time": "2024-05-24T07:37:30.201456Z",
     "start_time": "2024-05-24T07:37:29.732485Z"
    }
   },
   "outputs": [],
   "source": [
    "year = 2030\n",
    "url = f\"https://raw.githubusercontent.com/PyPSA/technology-data/master/outputs/costs_{year}.csv\"\n",
    "costs = pd.read_csv(url, index_col=[0, 1])"
   ]
  },
  {
   "cell_type": "code",
   "execution_count": 15,
   "metadata": {
    "ExecuteTime": {
     "end_time": "2024-05-24T07:37:30.218478Z",
     "start_time": "2024-05-24T07:37:30.202899Z"
    }
   },
   "outputs": [],
   "source": [
    "costs.loc[costs.unit.str.contains(\"/kW\"), \"value\"] *= 1e3\n",
    "costs.unit = costs.unit.str.replace(\"/kW\", \"/MW\")\n",
    "\n",
    "defaults = {\n",
    "    \"FOM\": 0,\n",
    "    \"VOM\": 0,\n",
    "    \"efficiency\": 1,\n",
    "    \"fuel\": 0,\n",
    "    \"investment\": 0,\n",
    "    \"lifetime\": 25,\n",
    "    \"CO2 intensity\": 0,\n",
    "    \"discount rate\": 0.07,\n",
    "}\n",
    "costs = costs.value.unstack().fillna(defaults)\n",
    "\n",
    "costs.at[\"OCGT\", \"fuel\"] = costs.at[\"gas\", \"fuel\"]\n",
    "costs.at[\"OCGT\", \"CO2 intensity\"] = costs.at[\"gas\", \"CO2 intensity\"]"
   ]
  },
  {
   "cell_type": "markdown",
   "metadata": {},
   "source": [
    "Let's also write a small utility function that calculates the **annuity** to annualise investment costs. The formula is\n",
    "\n",
    "$$\n",
    "a(r, n) = \\frac{r}{1-(1+r)^{-n}}\n",
    "$$\n",
    "where $r$ is the discount rate and $n$ is the lifetime."
   ]
  },
  {
   "cell_type": "code",
   "execution_count": 16,
   "metadata": {
    "ExecuteTime": {
     "end_time": "2024-05-24T07:37:30.222911Z",
     "start_time": "2024-05-24T07:37:30.220818Z"
    }
   },
   "outputs": [],
   "source": [
    "def annuity(r, n):\n",
    "    return r / (1.0 - 1.0 / (1.0 + r) ** n)"
   ]
  },
  {
   "cell_type": "code",
   "execution_count": 17,
   "metadata": {
    "ExecuteTime": {
     "end_time": "2024-05-24T07:37:30.228332Z",
     "start_time": "2024-05-24T07:37:30.223938Z"
    }
   },
   "outputs": [
    {
     "data": {
      "text/plain": [
       "0.09439292574325567"
      ]
     },
     "execution_count": 17,
     "metadata": {},
     "output_type": "execute_result"
    }
   ],
   "source": [
    "annuity(0.07, 20)"
   ]
  },
  {
   "cell_type": "markdown",
   "metadata": {},
   "source": [
    "Based on this, we can calculate the marginal generation costs (€/MWh):"
   ]
  },
  {
   "cell_type": "code",
   "execution_count": 18,
   "metadata": {
    "ExecuteTime": {
     "end_time": "2024-05-24T07:37:30.231948Z",
     "start_time": "2024-05-24T07:37:30.229239Z"
    }
   },
   "outputs": [],
   "source": [
    "costs[\"marginal_cost\"] = costs[\"VOM\"] + costs[\"fuel\"] / costs[\"efficiency\"]"
   ]
  },
  {
   "cell_type": "markdown",
   "metadata": {},
   "source": [
    "and the annualised investment costs (`capital_cost` in PyPSA terms, €/MW/a):"
   ]
  },
  {
   "cell_type": "code",
   "execution_count": 19,
   "metadata": {
    "ExecuteTime": {
     "end_time": "2024-05-24T07:37:30.237265Z",
     "start_time": "2024-05-24T07:37:30.232914Z"
    }
   },
   "outputs": [],
   "source": [
    "annuity = costs.apply(lambda x: annuity(x[\"discount rate\"], x[\"lifetime\"]), axis=1)"
   ]
  },
  {
   "cell_type": "code",
   "execution_count": 20,
   "metadata": {
    "ExecuteTime": {
     "end_time": "2024-05-24T07:37:30.240224Z",
     "start_time": "2024-05-24T07:37:30.238032Z"
    }
   },
   "outputs": [],
   "source": [
    "costs[\"capital_cost\"] = (annuity + costs[\"FOM\"] / 100) * costs[\"investment\"]"
   ]
  },
  {
   "cell_type": "markdown",
   "metadata": {},
   "source": [
    "We can now read the capital and marginal cost of onffhore wind and electrolysis"
   ]
  },
  {
   "cell_type": "code",
   "execution_count": 21,
   "metadata": {},
   "outputs": [
    {
     "data": {
      "text/plain": [
       "174556.22307975945"
      ]
     },
     "execution_count": 21,
     "metadata": {},
     "output_type": "execute_result"
    }
   ],
   "source": [
    "costs.at[\"offwind\", \"capital_cost\"] #EUR/MW/a"
   ]
  },
  {
   "cell_type": "code",
   "execution_count": 22,
   "metadata": {},
   "outputs": [
    {
     "data": {
      "text/plain": [
       "188715.7758309984"
      ]
     },
     "execution_count": 22,
     "metadata": {},
     "output_type": "execute_result"
    }
   ],
   "source": [
    "costs.at[\"electrolysis\", \"capital_cost\"] #EUR/MW/a"
   ]
  },
  {
   "cell_type": "markdown",
   "metadata": {},
   "source": [
    "## Retrieving time series data"
   ]
  },
  {
   "cell_type": "markdown",
   "metadata": {
    "ExecuteTime": {
     "end_time": "2024-05-24T07:37:33.705510Z",
     "start_time": "2024-05-24T07:37:30.240941Z"
    }
   },
   "source": [
    "In this example, wind data from [https://zenodo.org/record/3253876#.XSiVOEdS8l0](https://zenodo.org/record/3253876#.XSiVOEdS8l0) and solar PV data from [https://zenodo.org/record/2613651#.X0kbhDVS-uV](https://zenodo.org/record/3253876#.XSiVOEdS8l0) is used. The data is downloaded in csv format and saved in the 'data' folder.\n",
    "The Pandas package is used as a convenient way of managing the datasets.\n",
    "\n",
    "For convenience, the column including date information is converted into Datetime and set as index"
   ]
  },
  {
   "cell_type": "code",
   "execution_count": 25,
   "metadata": {
    "ExecuteTime": {
     "end_time": "2024-05-24T07:37:33.730588Z",
     "start_time": "2024-05-24T07:37:33.709003Z"
    }
   },
   "outputs": [],
   "source": [
    "data_offwind = pd.read_csv('data/offshore_wind_1979-2017.csv',sep=';')\n",
    "data_offwind.index = pd.DatetimeIndex(data_offwind['utc_time'])\n"
   ]
  },
  {
   "cell_type": "markdown",
   "metadata": {},
   "source": [
    "The data format can now be analyzed using the .head() function to show the first lines of the data set"
   ]
  },
  {
   "cell_type": "code",
   "execution_count": 27,
   "metadata": {
    "ExecuteTime": {
     "end_time": "2024-05-24T07:37:33.734128Z",
     "start_time": "2024-05-24T07:37:33.731197Z"
    }
   },
   "outputs": [
    {
     "data": {
      "text/html": [
       "<div>\n",
       "<style scoped>\n",
       "    .dataframe tbody tr th:only-of-type {\n",
       "        vertical-align: middle;\n",
       "    }\n",
       "\n",
       "    .dataframe tbody tr th {\n",
       "        vertical-align: top;\n",
       "    }\n",
       "\n",
       "    .dataframe thead th {\n",
       "        text-align: right;\n",
       "    }\n",
       "</style>\n",
       "<table border=\"1\" class=\"dataframe\">\n",
       "  <thead>\n",
       "    <tr style=\"text-align: right;\">\n",
       "      <th></th>\n",
       "      <th>utc_time</th>\n",
       "      <th>BEL</th>\n",
       "      <th>DEU</th>\n",
       "      <th>DNK</th>\n",
       "      <th>GBR</th>\n",
       "      <th>NLD</th>\n",
       "      <th>SWE</th>\n",
       "      <th>FIN</th>\n",
       "      <th>FRA</th>\n",
       "      <th>IRL</th>\n",
       "      <th>NOR</th>\n",
       "    </tr>\n",
       "    <tr>\n",
       "      <th>utc_time</th>\n",
       "      <th></th>\n",
       "      <th></th>\n",
       "      <th></th>\n",
       "      <th></th>\n",
       "      <th></th>\n",
       "      <th></th>\n",
       "      <th></th>\n",
       "      <th></th>\n",
       "      <th></th>\n",
       "      <th></th>\n",
       "      <th></th>\n",
       "    </tr>\n",
       "  </thead>\n",
       "  <tbody>\n",
       "    <tr>\n",
       "      <th>1979-01-01 00:00:00+00:00</th>\n",
       "      <td>1979-01-01T00:00:00Z</td>\n",
       "      <td>0.513</td>\n",
       "      <td>0.875</td>\n",
       "      <td>0.986</td>\n",
       "      <td>0.522</td>\n",
       "      <td>0.484</td>\n",
       "      <td>0.712</td>\n",
       "      <td>0.470</td>\n",
       "      <td>0.296</td>\n",
       "      <td>0.676</td>\n",
       "      <td>0.232</td>\n",
       "    </tr>\n",
       "    <tr>\n",
       "      <th>1979-01-01 01:00:00+00:00</th>\n",
       "      <td>1979-01-01T01:00:00Z</td>\n",
       "      <td>0.367</td>\n",
       "      <td>0.861</td>\n",
       "      <td>0.985</td>\n",
       "      <td>0.549</td>\n",
       "      <td>0.322</td>\n",
       "      <td>0.713</td>\n",
       "      <td>0.384</td>\n",
       "      <td>0.331</td>\n",
       "      <td>0.584</td>\n",
       "      <td>0.180</td>\n",
       "    </tr>\n",
       "    <tr>\n",
       "      <th>1979-01-01 02:00:00+00:00</th>\n",
       "      <td>1979-01-01T02:00:00Z</td>\n",
       "      <td>0.372</td>\n",
       "      <td>0.845</td>\n",
       "      <td>0.978</td>\n",
       "      <td>0.551</td>\n",
       "      <td>0.267</td>\n",
       "      <td>0.711</td>\n",
       "      <td>0.321</td>\n",
       "      <td>0.343</td>\n",
       "      <td>0.466</td>\n",
       "      <td>0.161</td>\n",
       "    </tr>\n",
       "    <tr>\n",
       "      <th>1979-01-01 03:00:00+00:00</th>\n",
       "      <td>1979-01-01T03:00:00Z</td>\n",
       "      <td>0.351</td>\n",
       "      <td>0.819</td>\n",
       "      <td>0.968</td>\n",
       "      <td>0.498</td>\n",
       "      <td>0.274</td>\n",
       "      <td>0.709</td>\n",
       "      <td>0.271</td>\n",
       "      <td>0.223</td>\n",
       "      <td>0.389</td>\n",
       "      <td>0.163</td>\n",
       "    </tr>\n",
       "    <tr>\n",
       "      <th>1979-01-01 04:00:00+00:00</th>\n",
       "      <td>1979-01-01T04:00:00Z</td>\n",
       "      <td>0.338</td>\n",
       "      <td>0.787</td>\n",
       "      <td>0.957</td>\n",
       "      <td>0.457</td>\n",
       "      <td>0.274</td>\n",
       "      <td>0.708</td>\n",
       "      <td>0.224</td>\n",
       "      <td>0.189</td>\n",
       "      <td>0.270</td>\n",
       "      <td>0.168</td>\n",
       "    </tr>\n",
       "  </tbody>\n",
       "</table>\n",
       "</div>"
      ],
      "text/plain": [
       "                                       utc_time    BEL    DEU    DNK    GBR  \\\n",
       "utc_time                                                                      \n",
       "1979-01-01 00:00:00+00:00  1979-01-01T00:00:00Z  0.513  0.875  0.986  0.522   \n",
       "1979-01-01 01:00:00+00:00  1979-01-01T01:00:00Z  0.367  0.861  0.985  0.549   \n",
       "1979-01-01 02:00:00+00:00  1979-01-01T02:00:00Z  0.372  0.845  0.978  0.551   \n",
       "1979-01-01 03:00:00+00:00  1979-01-01T03:00:00Z  0.351  0.819  0.968  0.498   \n",
       "1979-01-01 04:00:00+00:00  1979-01-01T04:00:00Z  0.338  0.787  0.957  0.457   \n",
       "\n",
       "                             NLD    SWE    FIN    FRA    IRL    NOR  \n",
       "utc_time                                                             \n",
       "1979-01-01 00:00:00+00:00  0.484  0.712  0.470  0.296  0.676  0.232  \n",
       "1979-01-01 01:00:00+00:00  0.322  0.713  0.384  0.331  0.584  0.180  \n",
       "1979-01-01 02:00:00+00:00  0.267  0.711  0.321  0.343  0.466  0.161  \n",
       "1979-01-01 03:00:00+00:00  0.274  0.709  0.271  0.223  0.389  0.163  \n",
       "1979-01-01 04:00:00+00:00  0.274  0.708  0.224  0.189  0.270  0.168  "
      ]
     },
     "execution_count": 27,
     "metadata": {},
     "output_type": "execute_result"
    }
   ],
   "source": [
    "data_offwind.head()"
   ]
  },
  {
   "cell_type": "markdown",
   "metadata": {},
   "source": [
    "We will use timeseries for Denmark in this excercise"
   ]
  },
  {
   "cell_type": "code",
   "execution_count": 28,
   "metadata": {
    "ExecuteTime": {
     "end_time": "2024-05-24T07:37:33.742259Z",
     "start_time": "2024-05-24T07:37:33.735104Z"
    }
   },
   "outputs": [],
   "source": [
    "country = 'DNK'"
   ]
  },
  {
   "cell_type": "markdown",
   "metadata": {},
   "source": [
    "### Join capacity and dispatch optimization"
   ]
  },
  {
   "cell_type": "markdown",
   "metadata": {},
   "source": [
    "For building the model, we start again by initialising an empty network, adding the snapshots, the electricity and the hydrogen bus."
   ]
  },
  {
   "cell_type": "code",
   "execution_count": 31,
   "metadata": {
    "ExecuteTime": {
     "end_time": "2024-05-24T07:37:33.819917Z",
     "start_time": "2024-05-24T07:37:33.743147Z"
    }
   },
   "outputs": [
    {
     "data": {
      "text/plain": [
       "DatetimeIndex(['2015-01-01 00:00:00', '2015-01-01 01:00:00',\n",
       "               '2015-01-01 02:00:00', '2015-01-01 03:00:00',\n",
       "               '2015-01-01 04:00:00', '2015-01-01 05:00:00',\n",
       "               '2015-01-01 06:00:00', '2015-01-01 07:00:00',\n",
       "               '2015-01-01 08:00:00', '2015-01-01 09:00:00',\n",
       "               ...\n",
       "               '2015-12-31 14:00:00', '2015-12-31 15:00:00',\n",
       "               '2015-12-31 16:00:00', '2015-12-31 17:00:00',\n",
       "               '2015-12-31 18:00:00', '2015-12-31 19:00:00',\n",
       "               '2015-12-31 20:00:00', '2015-12-31 21:00:00',\n",
       "               '2015-12-31 22:00:00', '2015-12-31 23:00:00'],\n",
       "              dtype='datetime64[ns]', name='snapshot', length=8760, freq=None)"
      ]
     },
     "execution_count": 31,
     "metadata": {},
     "output_type": "execute_result"
    }
   ],
   "source": [
    "n = pypsa.Network()\n",
    "hours_in_2015 = pd.date_range('2015-01-01 00:00Z',\n",
    "                              '2015-12-31 23:00Z',\n",
    "                              freq='h')\n",
    "\n",
    "n.set_snapshots(hours_in_2015.values)\n",
    "\n",
    "n.add(\"Bus\", \"electricity\")\n",
    "n.add(\"Bus\", \"hydrogen\")\n",
    "n.snapshots"
   ]
  },
  {
   "cell_type": "markdown",
   "metadata": {},
   "source": [
    "Next, we add the hydrogen demand time series to the model. \n",
    "We add a \"free\" H2 store in the hydrogen bus. "
   ]
  },
  {
   "cell_type": "code",
   "execution_count": 40,
   "metadata": {
    "ExecuteTime": {
     "end_time": "2024-05-24T07:37:33.866618Z",
     "start_time": "2024-05-24T07:37:33.862680Z"
    }
   },
   "outputs": [
    {
     "name": "stderr",
     "output_type": "stream",
     "text": [
      "WARNING:pypsa.io:The following loads are already defined and will be skipped (use overwrite=True to overwrite): hydrogen demand\n"
     ]
    },
    {
     "data": {
      "text/plain": [
       "Index(['hydrogen store'], dtype='object')"
      ]
     },
     "execution_count": 40,
     "metadata": {},
     "output_type": "execute_result"
    }
   ],
   "source": [
    "annual_hydrogen_demand = 200000 #MWh\n",
    "hydrogen_demand = annual_hydrogen_demand/8760*np.ones(8760)\n",
    "n.add(\"Load\",\n",
    "      \"hydrogen demand\",\n",
    "      bus = \"hydrogen\",\n",
    "      p_set=hydrogen_demand)\n",
    "\n",
    "n.add(\"Store\",\n",
    "      \"hydrogen store\",\n",
    "      bus = \"hydrogen\",\n",
    "      e_nom_extendable=True,\n",
    "       e_cyclic=True)  # cyclic state of charge"
   ]
  },
  {
   "cell_type": "markdown",
   "metadata": {},
   "source": [
    "Let's have a check whether the data was read-in correctly."
   ]
  },
  {
   "cell_type": "code",
   "execution_count": 41,
   "metadata": {
    "ExecuteTime": {
     "end_time": "2024-05-24T07:37:34.547493Z",
     "start_time": "2024-05-24T07:37:33.867650Z"
    }
   },
   "outputs": [
    {
     "data": {
      "text/plain": [
       "<Axes: xlabel='snapshot', ylabel='MW'>"
      ]
     },
     "execution_count": 41,
     "metadata": {},
     "output_type": "execute_result"
    },
    {
     "data": {
      "image/png": "[encoded data removed]",
      "text/plain": [
       "<Figure size 600x200 with 1 Axes>"
      ]
     },
     "metadata": {},
     "output_type": "display_data"
    }
   ],
   "source": [
    "n.loads_t.p_set.plot(figsize=(6, 2), ylabel=\"MW\")"
   ]
  },
  {
   "cell_type": "markdown",
   "metadata": {},
   "source": [
    "We add now the offshore wind generator and set up the capacity to be extendable so that it can be optimized. We need to indicate the capacity factor or maximum power per unit 'p_max_pu'"
   ]
  },
  {
   "cell_type": "code",
   "execution_count": 42,
   "metadata": {
    "ExecuteTime": {
     "end_time": "2024-05-24T07:37:34.553677Z",
     "start_time": "2024-05-24T07:37:34.549041Z"
    }
   },
   "outputs": [
    {
     "data": {
      "text/plain": [
       "Index(['offwind'], dtype='object')"
      ]
     },
     "execution_count": 42,
     "metadata": {},
     "output_type": "execute_result"
    }
   ],
   "source": [
    "CF_wind = data_offwind[country][[hour.strftime(\"%Y-%m-%dT%H:%M:%SZ\") for hour in n.snapshots]]\n",
    "n.add(\n",
    "        \"Generator\",\n",
    "        \"offwind\",\n",
    "        bus=\"electricity\",\n",
    "        p_max_pu=CF_wind.values,\n",
    "        capital_cost=costs.at[\"offwind\", \"capital_cost\"],\n",
    "        marginal_cost=costs.at[\"offwind\", \"marginal_cost\"],\n",
    "        p_nom_extendable=True,\n",
    "    )\n"
   ]
  },
  {
   "cell_type": "markdown",
   "metadata": {},
   "source": [
    "So let's make sure the capacity factors are read-in correctly."
   ]
  },
  {
   "cell_type": "code",
   "execution_count": 43,
   "metadata": {
    "ExecuteTime": {
     "end_time": "2024-05-24T07:37:34.742640Z",
     "start_time": "2024-05-24T07:37:34.562676Z"
    }
   },
   "outputs": [
    {
     "data": {
      "text/plain": [
       "<Axes: xlabel='snapshot', ylabel='CF'>"
      ]
     },
     "execution_count": 43,
     "metadata": {},
     "output_type": "execute_result"
    },
    {
     "data": {
      "image/png": "[encoded data removed]",
      "text/plain": [
       "<Figure size 600x200 with 1 Axes>"
      ]
     },
     "metadata": {},
     "output_type": "display_data"
    }
   ],
   "source": [
    "n.generators_t.p_max_pu.loc[\"2015-01\"].plot(figsize=(6, 2), ylabel=\"CF\")"
   ]
  },
  {
   "cell_type": "markdown",
   "metadata": {},
   "source": [
    "We add the electrolyzer. "
   ]
  },
  {
   "cell_type": "code",
   "execution_count": 46,
   "metadata": {},
   "outputs": [
    {
     "data": {
      "text/plain": [
       "Index(['electrolysis'], dtype='object')"
      ]
     },
     "execution_count": 46,
     "metadata": {},
     "output_type": "execute_result"
    }
   ],
   "source": [
    "n.add(\n",
    "    \"Link\",\n",
    "    \"electrolysis\",\n",
    "    bus0=\"electricity\",\n",
    "    bus1=\"hydrogen\",\n",
    "    p_nom_extendable=True,\n",
    "    efficiency=costs.at[\"electrolysis\", \"efficiency\"],\n",
    "    capital_cost=costs.at[\"electrolysis\", \"capital_cost\"] #EUR/MW/a, \n",
    ")"
   ]
  },
  {
   "cell_type": "markdown",
   "metadata": {},
   "source": [
    "### Model Run"
   ]
  },
  {
   "cell_type": "markdown",
   "metadata": {},
   "source": [
    "We can already solve the model using the open-solver \"highs\" or the commercial solver \"gurobi\" with the academic license"
   ]
  },
  {
   "cell_type": "code",
   "execution_count": 48,
   "metadata": {
    "ExecuteTime": {
     "end_time": "2024-05-24T07:37:35.306567Z",
     "start_time": "2024-05-24T07:37:34.744060Z"
    }
   },
   "outputs": [
    {
     "name": "stderr",
     "output_type": "stream",
     "text": [
      "WARNING:pypsa.consistency:The following links have carriers which are not defined:\n",
      "Index(['electrolysis'], dtype='object', name='Link')\n",
      "WARNING:pypsa.consistency:The following stores have carriers which are not defined:\n",
      "Index(['hydrogen store'], dtype='object', name='Store')\n",
      "WARNING:pypsa.consistency:The following buses have carriers which are not defined:\n",
      "Index(['electricity', 'hydrogen'], dtype='object', name='Bus')\n",
      "WARNING:pypsa.consistency:The following links have carriers which are not defined:\n",
      "Index(['electrolysis'], dtype='object', name='Link')\n",
      "WARNING:pypsa.consistency:The following stores have carriers which are not defined:\n",
      "Index(['hydrogen store'], dtype='object', name='Store')\n",
      "WARNING:pypsa.consistency:The following buses have carriers which are not defined:\n",
      "Index(['electricity', 'hydrogen'], dtype='object', name='Bus')\n",
      "INFO:linopy.model: Solve problem using Highs solver\n",
      "INFO:linopy.io:Writing objective.\n",
      "Writing constraints.: 100%|\u001b[38;2;128;191;255m██████████\u001b[0m| 14/14 [00:00<00:00, 26.75it/s]\n",
      "Writing continuous variables.: 100%|\u001b[38;2;128;191;255m██████████\u001b[0m| 7/7 [00:00<00:00, 62.62it/s]\n",
      "INFO:linopy.io: Writing time: 0.68s\n",
      "INFO:linopy.constants: Optimization successful: \n",
      "Status: ok\n",
      "Termination condition: optimal\n",
      "Solution: 35043 primals, 78843 duals\n",
      "Objective: 2.92e+07\n",
      "Solver model: available\n",
      "Solver message: optimal\n",
      "\n",
      "INFO:pypsa.optimization.optimize:The shadow-prices of the constraints Generator-ext-p-lower, Generator-ext-p-upper, Link-ext-p-lower, Link-ext-p-upper, Store-ext-e-lower, Store-ext-e-upper, Store-energy_balance were not assigned to the network.\n"
     ]
    },
    {
     "data": {
      "text/plain": [
       "('ok', 'optimal')"
      ]
     },
     "execution_count": 48,
     "metadata": {},
     "output_type": "execute_result"
    }
   ],
   "source": [
    "n.optimize(solver_name=\"highs\")"
   ]
  },
  {
   "cell_type": "markdown",
   "metadata": {},
   "source": [
    "Now, we can look at the results and evaluate the total system cost (in billion Euros per year)"
   ]
  },
  {
   "cell_type": "code",
   "execution_count": 49,
   "metadata": {
    "ExecuteTime": {
     "end_time": "2024-05-24T07:37:35.309989Z",
     "start_time": "2024-05-24T07:37:35.307258Z"
    }
   },
   "outputs": [
    {
     "data": {
      "text/plain": [
       "0.0292038589517356"
      ]
     },
     "execution_count": 49,
     "metadata": {},
     "output_type": "execute_result"
    }
   ],
   "source": [
    "n.objective / 1e9"
   ]
  },
  {
   "cell_type": "markdown",
   "metadata": {},
   "source": [
    "**a) What is the optimum capacity of offshore wind and electrolyzer that needs to be installed?**"
   ]
  },
  {
   "cell_type": "markdown",
   "metadata": {},
   "source": [
    "The optimised capacities in GW, notice that we are representing some technologies using generator components and other using link components, so we need to check both."
   ]
  },
  {
   "cell_type": "code",
   "execution_count": 51,
   "metadata": {
    "ExecuteTime": {
     "end_time": "2024-05-24T07:37:35.321024Z",
     "start_time": "2024-05-24T07:37:35.316333Z"
    }
   },
   "outputs": [
    {
     "data": {
      "text/plain": [
       "Generator\n",
       "offwind    97.922403\n",
       "Name: p_nom_opt, dtype: float64"
      ]
     },
     "execution_count": 51,
     "metadata": {},
     "output_type": "execute_result"
    }
   ],
   "source": [
    "n.generators.p_nom_opt"
   ]
  },
  {
   "cell_type": "code",
   "execution_count": 53,
   "metadata": {},
   "outputs": [
    {
     "data": {
      "text/plain": [
       "Link\n",
       "electrolysis    64.139174\n",
       "Name: p_nom_opt, dtype: float64"
      ]
     },
     "execution_count": 53,
     "metadata": {},
     "output_type": "execute_result"
    }
   ],
   "source": [
    "n.links.p_nom_opt"
   ]
  },
  {
   "cell_type": "markdown",
   "metadata": {},
   "source": [
    "**b) What is the optimal storage capacity of hydrogen, in absolute terms and relative to the annual demand?**"
   ]
  },
  {
   "cell_type": "code",
   "execution_count": 54,
   "metadata": {
    "ExecuteTime": {
     "end_time": "2024-05-24T07:37:35.325340Z",
     "start_time": "2024-05-24T07:37:35.321798Z"
    }
   },
   "outputs": [
    {
     "data": {
      "text/plain": [
       "Store\n",
       "hydrogen store    10730.505634\n",
       "Name: e_nom_opt, dtype: float64"
      ]
     },
     "execution_count": 54,
     "metadata": {},
     "output_type": "execute_result"
    }
   ],
   "source": [
    "n.stores.e_nom_opt"
   ]
  },
  {
   "cell_type": "markdown",
   "metadata": {},
   "source": [
    "The optimal energy capacity of the hydrogen storage represents 5% of the annual hydrogen demand"
   ]
  },
  {
   "cell_type": "code",
   "execution_count": 119,
   "metadata": {},
   "outputs": [
    {
     "data": {
      "text/plain": [
       "0.05365252816891327"
      ]
     },
     "execution_count": 119,
     "metadata": {},
     "output_type": "execute_result"
    }
   ],
   "source": [
    "n.stores.e_nom_opt['hydrogen store']/n.loads_t.p_set['hydrogen demand'].sum()"
   ]
  },
  {
   "cell_type": "markdown",
   "metadata": {},
   "source": [
    "**c) Plot the duration curve for offshore wind generation and electrolyzer operation and discuss the results.**"
   ]
  },
  {
   "cell_type": "markdown",
   "metadata": {},
   "source": [
    "Even though electrolysis capacity is expensive, it is sized to obtain an utilization factor of 0.57."
   ]
  },
  {
   "cell_type": "code",
   "execution_count": 120,
   "metadata": {},
   "outputs": [
    {
     "data": {
      "text/plain": [
       "Text(0.5, 0, 'hours')"
      ]
     },
     "execution_count": 120,
     "metadata": {},
     "output_type": "execute_result"
    },
    {
     "data": {
      "image/png": "[encoded data removed]",
      "text/plain": [
       "<Figure size 640x480 with 1 Axes>"
      ]
     },
     "metadata": {},
     "output_type": "display_data"
    }
   ],
   "source": [
    "duration_offwind=n.generators_t.p[\"offwind\"].sort_values(ascending=False)\n",
    "duration_electrolysis=-n.links_t.p1[\"electrolysis\"].sort_values(ascending=True)\n",
    "plt.plot(duration_offwind.values)\n",
    "plt.plot(duration_electrolysis.values)\n",
    "plt.ylabel(\"Offwind/Electrolysis (MW)\")\n",
    "plt.xlabel(\"hours\")"
   ]
  },
  {
   "cell_type": "code",
   "execution_count": 116,
   "metadata": {},
   "outputs": [
    {
     "data": {
      "text/plain": [
       "0.5725608613513195"
      ]
     },
     "execution_count": 116,
     "metadata": {},
     "output_type": "execute_result"
    }
   ],
   "source": [
    "(duration_electrolysis/duration_electrolysis.max()).mean()"
   ]
  },
  {
   "cell_type": "markdown",
   "metadata": {},
   "source": [
    "**At what cost can the H$_2$ be produced and how does it compare to current H$_2$ price?**"
   ]
  },
  {
   "cell_type": "markdown",
   "metadata": {},
   "source": [
    "We can calculate the cost ob producing H$_2$ by using the total system cost or averaging the marginal price of the hydrogen bus. "
   ]
  },
  {
   "cell_type": "code",
   "execution_count": 109,
   "metadata": {},
   "outputs": [
    {
     "data": {
      "text/plain": [
       "146.01929475867797"
      ]
     },
     "execution_count": 109,
     "metadata": {},
     "output_type": "execute_result"
    }
   ],
   "source": [
    "n.objective / n.loads_t.p_set['hydrogen demand'].sum()"
   ]
  },
  {
   "cell_type": "code",
   "execution_count": 110,
   "metadata": {},
   "outputs": [
    {
     "data": {
      "text/plain": [
       "146.01929475875076"
      ]
     },
     "execution_count": 110,
     "metadata": {},
     "output_type": "execute_result"
    }
   ],
   "source": [
    "n.buses_t.marginal_price['hydrogen'].mean()"
   ]
  },
  {
   "cell_type": "markdown",
   "metadata": {},
   "source": [
    "Assuming 33 kWh/kg of Hydrogen, 146 EUR/MWh corresponds to 4.8 EUR/kg while the current price for hydrogen produced via steam methane reforming is around 1.5 EUR/kg (while emitting CO2)"
   ]
  },
  {
   "cell_type": "code",
   "execution_count": 111,
   "metadata": {},
   "outputs": [
    {
     "data": {
      "text/plain": [
       "4.818"
      ]
     },
     "execution_count": 111,
     "metadata": {},
     "output_type": "execute_result"
    }
   ],
   "source": [
    "146/1000*33"
   ]
  },
  {
   "cell_type": "code",
   "execution_count": null,
   "metadata": {},
   "outputs": [],
   "source": []
  }
 ],
 "metadata": {
  "kernelspec": {
   "display_name": "Python 3 (ipykernel)",
   "language": "python",
   "name": "python3"
  },
  "language_info": {
   "codemirror_mode": {
    "name": "ipython",
    "version": 3
   },
   "file_extension": ".py",
   "mimetype": "text/x-python",
   "name": "python",
   "nbconvert_exporter": "python",
   "pygments_lexer": "ipython3",
   "version": "3.12.8"
  }
 },
 "nbformat": 4,
 "nbformat_minor": 4
}
