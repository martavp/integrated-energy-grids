{
 "cells": [
  {
   "cell_type": "markdown",
   "metadata": {
    "vscode": {
     "languageId": "plaintext"
    }
   },
   "source": [
    "# Problem 6.3"
   ]
  },
  {
   "cell_type": "markdown",
   "metadata": {},
   "source": [
    "**Integrated Energy Grids**\n",
    "\n",
    "\n",
    "**Problem 6.3**\n",
    "\n",
    "**Assume the gas transport system that is shown in Figure 2. Gas can be injected in Node 1 at a marginal price of 10 EUR/kg or at Node 5 at 15 EUR/kg. There is a demand of 2·$10^8$ kg/s in Node 3. Finally, Node 2-3 represents a pumping station where gas pressure can be increased by $k_{23}$=1.2 at a cost that is proportional to the mass flow $m_{23}$ by a constant $o_{23}$ =5 EUR/kg.**\n",
    "\n",
    "**To calculate the speed of sound in gas $c$, assume the universal gas constant $R$=8.314 J/molK, the molar mass of methane $M$=16 g/mol, compression factor $Z$=1.31, and temperature T=25$^{\\circ}$C. Assume the diameter of the pipelines is $D$ = 1000 mm, the length $L_{12}$=$L_{34}$=$L_{45}$=100 km, and calculate the Darcy friction  coefficient $f_{D}$ assuming fully-turbulent flow and roughness $\\epsilon$=0.001m.**\n",
    "\n",
    "**(a) Write the equations of the optimization problem that minimizes the total system cost and use the Weymouth equation to represent pressure drop in the pipelines as a function of the mass flow $m_{ij}$.**\n"
   ]
  },
  {
   "attachments": {},
   "cell_type": "markdown",
   "metadata": {},
   "source": [
    "We define the pressure at differet node as $\\pi_i$ and the mass flow at different pipes as $m_{ij}$\n",
    "We have 9 variables ($m_{12}$, $m_{23}$, $m_{34}$, $m_{45}$, $\\pi_1$, $\\pi_2$, $\\pi_3$, $\\pi_4$, $\\pi_5$).\n",
    "\n",
    "We impose the energy balance constraint in nodes 1, 4 and 5, and the pipeline mass conservation and Weymouth equation in pipelines 12, 34 and 45.\n",
    "\n",
    "\\begin{alignat*}{3}\n",
    "\\min_{x,y} \\quad & o_1g_1 + o_5g_5 +o_{23}m_{23} & \\\\\n",
    "\\text{s.t.} \\quad & g_{1}=m_{12}  \\\\\n",
    "\\quad & -d_{4}=-m_{34}+m_{45}  \\\\\n",
    "\\quad & g_{5}=-m_{45}  \\\\\n",
    "\\quad & m_{12}=m_{23}  \\\\\n",
    "\\quad & m_{23}=m_{34}  \\\\\n",
    "\\quad & m_{34}=m_{45}  \\\\\n",
    "\\quad & \\pi_{3}=k_{23}\\pi_{2}  \\\\\n",
    "\\quad & \\pi_{1}^2-\\pi_{2}^2=a_{12}m_{12} |m_{12} | \\\\\n",
    "\\quad & \\pi_{3}^2-\\pi_{4}^2=a_{34}m_{34} |m_{34} | \\\\\n",
    "\\quad & \\pi_{4}^2-\\pi_{5}^2=a_{45}m_{45} |m_{34} | \\\\\n",
    "\\end{alignat*}\n",
    "\n",
    "\n",
    "where the coefficients $a_{ij}=\\frac{Lf^Dc^2}{DA^2}$ depend on the physical properties of the pipelines and the methane gas."
   ]
  },
  {
   "cell_type": "markdown",
   "metadata": {},
   "source": [
    "**(b) Use gurobipy to formulate and solve the problem**"
   ]
  },
  {
   "cell_type": "markdown",
   "metadata": {},
   "source": [
    "We start by calculating the cofficients $a_{ij}$ from the Weymouth equation "
   ]
  },
  {
   "cell_type": "code",
   "execution_count": 1,
   "metadata": {},
   "outputs": [],
   "source": [
    "import numpy as np"
   ]
  },
  {
   "cell_type": "markdown",
   "metadata": {},
   "source": [
    "The cross-sectional area $A$, and the speed of sound in gas $c$, can be calculated as"
   ]
  },
  {
   "cell_type": "code",
   "execution_count": 2,
   "metadata": {},
   "outputs": [
    {
     "data": {
      "text/plain": [
       "450.3900615022494"
      ]
     },
     "execution_count": 2,
     "metadata": {},
     "output_type": "execute_result"
    }
   ],
   "source": [
    "D = 1 # m\n",
    "\n",
    "Z = 1.31\n",
    "R = 8.314 # J/molk\n",
    "M = 0.016 # Kg/mol\n",
    "T = 273+25 # K\n",
    "\n",
    "A = np.pi*(D/2)**2\n",
    "c=np.sqrt(Z*R*T/M)\n",
    "c"
   ]
  },
  {
   "cell_type": "markdown",
   "metadata": {},
   "source": [
    "The Darcy friction coefficient can be calculated as $\\frac{1}{\\sqrt f_D}=-2log_{10}(\\frac{\\epsilon}{3.7D})$"
   ]
  },
  {
   "cell_type": "code",
   "execution_count": 3,
   "metadata": {},
   "outputs": [
    {
     "data": {
      "text/plain": [
       "0.0196354659355267"
      ]
     },
     "execution_count": 3,
     "metadata": {},
     "output_type": "execute_result"
    }
   ],
   "source": [
    "epsilon = 0.001 # m\n",
    "\n",
    "f_D=(1/(-2*np.log10(epsilon/(3.7*D))))**2\n",
    "f_D"
   ]
  },
  {
   "cell_type": "markdown",
   "metadata": {},
   "source": [
    "The coefficients from the Weymouth equation can be calculated as $a_{ij}=\\frac{Lf_Dc^2}{DA^2}$"
   ]
  },
  {
   "cell_type": "code",
   "execution_count": 4,
   "metadata": {},
   "outputs": [
    {
     "data": {
      "text/plain": [
       "645712279.9219108"
      ]
     },
     "execution_count": 4,
     "metadata": {},
     "output_type": "execute_result"
    }
   ],
   "source": [
    "L = 100*1000 # km -> m\n",
    "L_12=L\n",
    "a_12=L_12*f_D*c**2/(D*A**2)\n",
    "a_34=a_12\n",
    "a_45=a_12\n",
    "a_12"
   ]
  },
  {
   "cell_type": "markdown",
   "metadata": {},
   "source": [
    "We import gurobipy and write the problem"
   ]
  },
  {
   "cell_type": "code",
   "execution_count": 5,
   "metadata": {},
   "outputs": [],
   "source": [
    "import gurobipy as gp\n",
    "from gurobipy import GRB"
   ]
  },
  {
   "cell_type": "code",
   "execution_count": 6,
   "metadata": {},
   "outputs": [
    {
     "name": "stdout",
     "output_type": "stream",
     "text": [
      "Set parameter Username\n",
      "Set parameter LicenseID to value 2604332\n",
      "Academic license - for non-commercial use only - expires 2025-12-30\n",
      "Gurobi Optimizer version 12.0.0 build v12.0.0rc1 (win64 - Windows 11.0 (26100.2))\n",
      "\n",
      "CPU model: Intel(R) Core(TM) i7-8550U CPU @ 1.80GHz, instruction set [SSE2|AVX|AVX2]\n",
      "Thread count: 4 physical cores, 8 logical processors, using up to 8 threads\n",
      "\n",
      "Optimize a model with 6 rows, 14 columns and 12 nonzeros\n",
      "Model fingerprint: 0x2eae29bb\n",
      "Model has 3 quadratic constraints\n",
      "Model has 3 simple general constraints\n",
      "  3 ABS\n",
      "Variable types: 14 continuous, 0 integer (0 binary)\n",
      "Coefficient statistics:\n",
      "  Matrix range     [1e+00, 1e+00]\n",
      "  QMatrix range    [1e+00, 6e+08]\n",
      "  Objective range  [5e+00, 2e+01]\n",
      "  Bounds range     [2e+08, 2e+08]\n",
      "  RHS range        [2e+08, 2e+08]\n",
      "Warning: Quadratic constraints contain large coefficients\n",
      "         Consider reformulating model or setting NumericFocus parameter\n",
      "         to avoid numerical issues.\n",
      "Presolve removed 5 rows and 8 columns\n",
      "Presolve time: 0.05s\n",
      "Presolved: 22 rows, 13 columns, 41 nonzeros\n",
      "Presolved model has 6 bilinear constraint(s)\n",
      "Warning: Model contains variables with very large bounds participating\n",
      "         in product terms.\n",
      "         Presolve was not able to compute smaller bounds for these variables.\n",
      "         Consider bounding these variables or reformulating the model.\n",
      "\n",
      "\n",
      "Solving non-convex MIQCP\n",
      "\n",
      "Variable types: 13 continuous, 0 integer (0 binary)\n",
      "\n",
      "Root relaxation: objective 3.000000e+09, 1 iterations, 0.01 seconds (0.00 work units)\n",
      "\n",
      "    Nodes    |    Current Node    |     Objective Bounds      |     Work\n",
      " Expl Unexpl |  Obj  Depth IntInf | Incumbent    BestBd   Gap | It/Node Time\n",
      "\n",
      "     0     0 3.0000e+09    0    1          - 3.0000e+09      -     -    0s\n",
      "     0     0 3.0000e+09    0    1          - 3.0000e+09      -     -    0s\n",
      "     0     2 3.0000e+09    0    1          - 3.0000e+09      -     -    0s\n",
      " 226599  5403 3.0000e+09  433    2          - 3.0000e+09      -   0.3    5s\n",
      " 497882  5766 infeasible  293               - 3.0000e+09      -   0.4   10s\n",
      "H598724   378                    3.000000e+09 3.0000e+09  0.00%   0.4   11s\n",
      "\n",
      "Explored 601882 nodes (215779 simplex iterations) in 11.72 seconds (0.69 work units)\n",
      "Thread count was 8 (of 8 available processors)\n",
      "\n",
      "Solution count 1: 3e+09 \n",
      "\n",
      "Optimal solution found (tolerance 1.00e-04)\n",
      "Best objective 3.000000000000e+09, best bound 3.000000000000e+09, gap 0.0000%\n"
     ]
    }
   ],
   "source": [
    "k_23 = 1.2\n",
    "d_4 = 2*100000000 #kg/s\n",
    "o_1 = 10 #EUR/kg\n",
    "o_5 = 15 #EUR/kg\n",
    "o_m23 = 5 #EUR/kg\n",
    "\n",
    "model = gp.Model(\"My_quadratic_problem\")\n",
    "g_1 = model.addVar(vtype=GRB.CONTINUOUS, lb=0, name=\"g_1\")\n",
    "g_5 = model.addVar(vtype=GRB.CONTINUOUS, lb=0, name=\"g_5\")\n",
    "\n",
    "m_12 = model.addVar(vtype=GRB.CONTINUOUS, lb=0, name=\"m_12\")\n",
    "m_23 = model.addVar(vtype=GRB.CONTINUOUS, lb=0, name=\"m_23\")\n",
    "m_34 = model.addVar(vtype=GRB.CONTINUOUS, lb=0, name=\"m_34\")\n",
    "m_45 = model.addVar(vtype=GRB.CONTINUOUS, lb=-200000000, name=\"m_45\")\n",
    "\n",
    "abs_m_12 = model.addVar(vtype=GRB.CONTINUOUS, lb=0, name=\"abs_m_12\")\n",
    "abs_m_34 = model.addVar(vtype=GRB.CONTINUOUS, lb=0, name=\"abs_m_34\")\n",
    "abs_m_45 = model.addVar(vtype=GRB.CONTINUOUS, lb=0, name=\"abs_m_45\")\n",
    "\n",
    "p_1 = model.addVar(vtype=GRB.CONTINUOUS, lb=0, name=\"p_1\")\n",
    "p_2 = model.addVar(vtype=GRB.CONTINUOUS, lb=0, name=\"p_2\")\n",
    "p_3 = model.addVar(vtype=GRB.CONTINUOUS, lb=0, name=\"p_3\")\n",
    "p_4 = model.addVar(vtype=GRB.CONTINUOUS, lb=0, name=\"p_4\")\n",
    "p_5 = model.addVar(vtype=GRB.CONTINUOUS, lb=0, name=\"p_5\")\n",
    "\n",
    "model.setObjective(o_1*g_1 + o_5*g_5 + o_m23*m_23, GRB.MINIMIZE)\n",
    "\n",
    "constraint_a = model.addLConstr(g_1 == m_12)\n",
    "constraint_b = model.addLConstr(-g_5 == m_45)\n",
    "constraint_c = model.addLConstr(-d_4 == -m_34+m_45)\n",
    "constraint_d = model.addLConstr(m_12 == m_23)\n",
    "constraint_e = model.addLConstr(m_12 == m_34)\n",
    "constraint_f = model.addLConstr(p_3 == k_23*p_2)\n",
    "\n",
    "# We need to define additional constraints to use absolute values\n",
    "from gurobipy import abs_\n",
    "model.addConstr(abs_m_12 == abs_(m_12), name='abs_m_12')\n",
    "model.addConstr(abs_m_34 == abs_(m_34), name='abs_m_34')\n",
    "model.addConstr(abs_m_45 == abs_(m_45), name='abs_m_45')\n",
    "constraint_g  = model.addQConstr(a_12*m_12*abs_m_12 == p_1**2-p_2**2)\n",
    "constraint_h  = model.addQConstr(a_34*m_34*abs_m_34 == p_3**2-p_4**2)\n",
    "constraint_i  = model.addQConstr(a_45*m_45*abs_m_45 == p_4**2-p_5**2)\n",
    "\n",
    "model.optimize()\n"
   ]
  },
  {
   "cell_type": "markdown",
   "metadata": {},
   "source": [
    "We print the values of the variables in the solution"
   ]
  },
  {
   "cell_type": "code",
   "execution_count": 7,
   "metadata": {},
   "outputs": [
    {
     "name": "stdout",
     "output_type": "stream",
     "text": [
      "g_1 0.0023753316709413195\n",
      "g_5 199999999.99762452\n",
      "m_12 0.0023753316709413195\n",
      "m_23 0.0023753316709413195\n",
      "m_34 0.0023753316709413195\n",
      "m_45 -199999999.99762452\n",
      "p_1 79 Pa\n",
      "p_2 50 Pa\n",
      "p_3 60 Pa\n",
      "p_4 0 Pa\n",
      "p_5 5082173865214 Pa\n"
     ]
    }
   ],
   "source": [
    "print(str(g_1.VarName) + ' ' + str(g_1.x))\n",
    "print(str(g_5.VarName) + ' ' + str(g_5.x))\n",
    "\n",
    "print(str(m_12.VarName) + ' ' + str(m_12.x))\n",
    "print(str(m_23.VarName) + ' ' + str(m_23.x))\n",
    "print(str(m_34.VarName) + ' ' + str(m_34.x))\n",
    "print(str(m_45.VarName) + ' ' + str(m_45.x))\n",
    "                                   \n",
    "print(str(p_1.VarName) + ' ' + str(round(p_1.x)) + ' Pa')\n",
    "print(str(p_2.VarName) + ' ' + str(round(p_2.x)) + ' Pa')\n",
    "print(str(p_3.VarName) + ' ' + str(round(p_3.x)) + ' Pa')\n",
    "print(str(p_4.VarName) + ' ' + str(round(p_4.x)) + ' Pa')\n",
    "print(str(p_5.VarName) + ' ' + str(round(p_5.x)) + ' Pa')"
   ]
  }
 ],
 "metadata": {
  "kernelspec": {
   "display_name": "Python 3 (ipykernel)",
   "language": "python",
   "name": "python3"
  },
  "language_info": {
   "codemirror_mode": {
    "name": "ipython",
    "version": 3
   },
   "file_extension": ".py",
   "mimetype": "text/x-python",
   "name": "python",
   "nbconvert_exporter": "python",
   "pygments_lexer": "ipython3",
   "version": "3.12.8"
  }
 },
 "nbformat": 4,
 "nbformat_minor": 4
}
