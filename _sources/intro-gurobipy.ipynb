{
 "cells": [
  {
   "cell_type": "markdown",
   "metadata": {},
   "source": [
    "# Introduction to `gurobipy`"
   ]
  },
  {
   "cell_type": "markdown",
   "metadata": {},
   "source": [
    ":::{note}\n",
    "This material is mostly adapted from the following resources:\n",
    "\n",
    "[Gurobipy introduction prepared for the course \"Optimization in Modern Power Systems\" by Lesia Mitridati](https://kurser.dtu.dk/course/2023-2024/46750?menulanguage=en)\n",
    ":::"
   ]
  },
  {
   "cell_type": "markdown",
   "metadata": {},
   "source": [
    "[Gurobi Optimizer](https://docs.gurobi.com/current/) is a mathematical optimization software library for solving mixed-integer linear, quadratic, and linear optimization problems.\n",
    "\n",
    "[Gurobipy](https://pypi.org/project/gurobipy/#description) is a package to write problems to be solved with Gurobi.\n",
    "\n",
    "Gurobi software is not open but it allows you to [get an Academic license](https://martavp.github.io/integrated-energy-grids/intro-gurobi.html)"
   ]
  },
  {
   "cell_type": "markdown",
   "metadata": {},
   "source": [
    ":::{note}\n",
    "If you have not yet set up Python on your computer, you can execute this tutorial in your browser via [Google Colab](https://colab.research.google.com/). Click on the rocket in the top right corner and launch \"Colab\". If that doesn't work download the `.ipynb` file and import it in [Google Colab](https://colab.research.google.com/).\n",
    "\n",
    "Then install the following packages by executing the following command in a Jupyter cell at the top of the notebook.\n",
    "\n",
    "```sh\n",
    "!pip install gurobipy\n",
    "```\n",
    ":::"
   ]
  },
  {
   "cell_type": "markdown",
   "metadata": {},
   "source": [
    "- We import gurobipy with prefix ```gp.```\n",
    "- The specific module ```GRB``` is commonly imported separately, as it is used frequently. "
   ]
  },
  {
   "cell_type": "code",
   "execution_count": 10,
   "metadata": {},
   "outputs": [],
   "source": [
    "import gurobipy as gp\n",
    "from gurobipy import GRB"
   ]
  },
  {
   "cell_type": "markdown",
   "metadata": {},
   "source": [
    "## Example: Simple linear optimization problem"
   ]
  },
  {
   "cell_type": "markdown",
   "metadata": {},
   "source": [
    "Let's use the following problem as an example:\n",
    "\n",
    "$$\n",
    "  \\begin{align}\n",
    "      \\textrm{minimize} \\quad &30x_1 + 20x_2 \\\\\n",
    "      \\textrm{subject to} \\quad &0.6x_1 + 0.2x_2 \\geq 60 \\\\\n",
    "      &0.4x_1 + 0.8x_2 \\geq 100 \\\\\n",
    "      &x_1 \\geq 0, x_2 \\geq 0 \\\\\n",
    "  \\end{align}\n",
    "$$"
   ]
  },
  {
   "cell_type": "markdown",
   "metadata": {},
   "source": [
    "- We initialize a model object in which we'll store the problem."
   ]
  },
  {
   "cell_type": "code",
   "execution_count": 11,
   "metadata": {},
   "outputs": [],
   "source": [
    "model = gp.Model(\"My_LP_problem\")"
   ]
  },
  {
   "cell_type": "markdown",
   "metadata": {},
   "source": [
    "- Now, we can add variables to the model with the method ```model.addVar(lb=0.0, ub=float('inf'), vtype=GRB.CONTINUOUS, name=\"\")```.\n",
    "- We can specify lower and upper bounds as well as domain using the arguments ```lb```, ```ub```, and ```vtype```, respectively.\n",
    "- <b>Note that the default lower bound is 0!<b>"
   ]
  },
  {
   "cell_type": "code",
   "execution_count": 12,
   "metadata": {},
   "outputs": [],
   "source": [
    "# Note that these two variables have the same bounds and domain\n",
    "x_1 = model.addVar(lb=0, vtype=GRB.CONTINUOUS, name=\"x_1\")\n",
    "x_2 = model.addVar(name=\"x_2\")"
   ]
  },
  {
   "cell_type": "markdown",
   "metadata": {},
   "source": [
    "- Generally, we add constraints with the ```model.addConstr(constr, name=\"\")``` method. \n",
    "- In this case, the constraints are linear and here, we should use the ```model.addLConstr(constr, name=\"\")``` method.\n",
    "- Here, it's important to store the constraints in a meaningful way so you can easily access specific dual variables after solving.\n",
    "- Note, that in the ```GRB```module, you can find the three signs ```GRB.GREATER_EQUAL```, ```GRB.EQUAL```, and ```GRB.LESS_EQUAL```."
   ]
  },
  {
   "cell_type": "code",
   "execution_count": 13,
   "metadata": {},
   "outputs": [],
   "source": [
    "constraint_1 = model.addLConstr(0.6*x_1 + 0.2*x_2, GRB.GREATER_EQUAL, 60, name='constraint_1')\n",
    "constraint_2 = model.addLConstr(0.4*x_1 + 0.8*x_2, GRB.GREATER_EQUAL, 100, name='constraint_2')"
   ]
  },
  {
   "cell_type": "markdown",
   "metadata": {},
   "source": [
    "- We define the objective function with the method ```model.setObjective(expr, sense=None)```.\n",
    "- <b>Remember to set the ```sense``` argument!<b>"
   ]
  },
  {
   "cell_type": "code",
   "execution_count": 14,
   "metadata": {},
   "outputs": [],
   "source": [
    "model.setObjective(30*x_1 + 20*x_2, GRB.MINIMIZE)"
   ]
  },
  {
   "cell_type": "markdown",
   "metadata": {},
   "source": [
    "- Now, we can solve the optimization problem with the method ```model.optimize```."
   ]
  },
  {
   "cell_type": "code",
   "execution_count": 15,
   "metadata": {},
   "outputs": [
    {
     "name": "stdout",
     "output_type": "stream",
     "text": [
      "Gurobi Optimizer version 12.0.0 build v12.0.0rc1 (win64 - Windows 11.0 (26100.2))\n",
      "\n",
      "CPU model: Intel(R) Core(TM) i7-8550U CPU @ 1.80GHz, instruction set [SSE2|AVX|AVX2]\n",
      "Thread count: 4 physical cores, 8 logical processors, using up to 8 threads\n",
      "\n",
      "Optimize a model with 2 rows, 2 columns and 4 nonzeros\n",
      "Model fingerprint: 0x20d42a0c\n",
      "Coefficient statistics:\n",
      "  Matrix range     [2e-01, 8e-01]\n",
      "  Objective range  [2e+01, 3e+01]\n",
      "  Bounds range     [0e+00, 0e+00]\n",
      "  RHS range        [6e+01, 1e+02]\n",
      "Presolve time: 0.03s\n",
      "Presolved: 2 rows, 2 columns, 4 nonzeros\n",
      "\n",
      "Iteration    Objective       Primal Inf.    Dual Inf.      Time\n",
      "       0    0.0000000e+00   1.600000e+02   0.000000e+00      0s\n",
      "       2    3.9000000e+03   0.000000e+00   0.000000e+00      0s\n",
      "\n",
      "Solved in 2 iterations and 0.05 seconds (0.00 work units)\n",
      "Optimal objective  3.900000000e+03\n"
     ]
    }
   ],
   "source": [
    "model.optimize()"
   ]
  },
  {
   "cell_type": "markdown",
   "metadata": {},
   "source": [
    "- We can check whether the problem was solved to optimality with ```model.status```.\n",
    "- If so, we retrieve optimal objective function with ```model.ObjVal``` \n",
    "- and optimal primal and dual variable values with ```var.x``` and ```constr.Pi```, respectively."
   ]
  },
  {
   "cell_type": "code",
   "execution_count": 16,
   "metadata": {},
   "outputs": [
    {
     "name": "stdout",
     "output_type": "stream",
     "text": [
      "optimal objective: 3900.0\n",
      "optimal value of x_1: 70.0\n",
      "optimal value of x_2: 90.0\n",
      "optimal value of dual for constraint_1: 40.0\n",
      "optimal value of dual for constraint_2: 15.0\n"
     ]
    }
   ],
   "source": [
    "if model.status == GRB.OPTIMAL:\n",
    "    optimal_objective = model.ObjVal\n",
    "    optimal_x_1 = x_1.x\n",
    "    optimal_x_2 = x_2.x\n",
    "    optimal_dual_1 = constraint_1.Pi\n",
    "    optimal_dual_2 = constraint_2.Pi\n",
    "    print(f\"optimal objective: {optimal_objective}\")\n",
    "    print(f\"optimal value of {x_1.VarName}: {optimal_x_1}\")\n",
    "    print(f\"optimal value of {x_2.VarName}: {optimal_x_2}\")\n",
    "    print(f\"optimal value of dual for {constraint_1.constrName}: {optimal_dual_1}\")\n",
    "    print(f\"optimal value of dual for {constraint_2.constrName}: {optimal_dual_2}\")\n",
    "else:\n",
    "    print(f\"optimization of {model.ModelName} was not successful\")"
   ]
  },
  {
   "cell_type": "markdown",
   "metadata": {},
   "source": [
    "## Example: Adding quadratic constraints and absolute values for variables"
   ]
  },
  {
   "cell_type": "markdown",
   "metadata": {},
   "source": [
    "If we want to add quadratic constraints, we should use the ```model.addQConstr(constr, name=\"\")``` method"
   ]
  },
  {
   "cell_type": "markdown",
   "metadata": {},
   "source": [
    "If we want to use the absolute value of a variable we can define it as follows"
   ]
  },
  {
   "cell_type": "code",
   "execution_count": 17,
   "metadata": {},
   "outputs": [
    {
     "data": {
      "text/plain": [
       "<gurobi.GenConstr *Awaiting Model Update*>"
      ]
     },
     "execution_count": 17,
     "metadata": {},
     "output_type": "execute_result"
    }
   ],
   "source": [
    "m = model.addVar(vtype=GRB.CONTINUOUS, lb=0, name=\"m\")\n",
    "abs_m = model.addVar(vtype=GRB.CONTINUOUS, lb=0, name=\"abs_m\")\n",
    "\n",
    "from gurobipy import abs_\n",
    "model.addConstr(abs_m == abs_(m), name='abs_m')"
   ]
  },
  {
   "cell_type": "code",
   "execution_count": null,
   "metadata": {},
   "outputs": [],
   "source": []
  }
 ],
 "metadata": {
  "kernelspec": {
   "display_name": "Python 3 (ipykernel)",
   "language": "python",
   "name": "python3"
  },
  "language_info": {
   "codemirror_mode": {
    "name": "ipython",
    "version": 3
   },
   "file_extension": ".py",
   "mimetype": "text/x-python",
   "name": "python",
   "nbconvert_exporter": "python",
   "pygments_lexer": "ipython3",
   "version": "3.12.8"
  }
 },
 "nbformat": 4,
 "nbformat_minor": 4
}
